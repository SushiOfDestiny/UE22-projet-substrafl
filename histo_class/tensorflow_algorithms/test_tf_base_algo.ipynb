{
 "cells": [
  {
   "attachments": {},
   "cell_type": "markdown",
   "metadata": {},
   "source": [
    "# Importing libraries"
   ]
  },
  {
   "cell_type": "code",
   "execution_count": 2,
   "metadata": {},
   "outputs": [],
   "source": [
    "from typing import List\n",
    "import tensorflow as tf\n",
    "import numpy as np\n",
    "from tensorflow.keras import datasets, layers, models\n",
    "\n",
    "import weight_manager\n",
    "\n",
    "import cloudpickle\n",
    "\n",
    "import pathlib\n",
    "# https://www.geeksforgeeks.org/ordereddict-in-python/"
   ]
  },
  {
   "attachments": {},
   "cell_type": "markdown",
   "metadata": {},
   "source": [
    "# Creating model "
   ]
  },
  {
   "cell_type": "code",
   "execution_count": 3,
   "metadata": {},
   "outputs": [],
   "source": [
    "# simple model creation\n",
    "\n",
    "model = tf.keras.Sequential()\n",
    "model.add(layers.Dense(units=10, input_shape=(1,)))\n",
    "model.add(layers.Dense(units=10))\n",
    "# model.add(layers.Conv2D(32, (3, 3), activation='relu', input_shape=(32,32,3)))\n",
    "# model.add(layers.MaxPooling2D((2, 2)))\n",
    "# model.add(layers.Conv2D(64, (3, 3), activation='relu'))\n",
    "# model.add(layers.MaxPooling2D((2, 2)))\n",
    "# model.add(layers.Conv2D(64, (3, 3), activation='relu'))\n",
    "\n",
    "optimizer = tf.keras.optimizers.Adam(learning_rate=0.001)\n",
    "loss= tf.keras.losses.SparseCategoricalCrossentropy(from_logits=True)\n"
   ]
  },
  {
   "attachments": {},
   "cell_type": "markdown",
   "metadata": {},
   "source": [
    "# Finding how to save and load the differents parameters of a `tf.keras.Sequential` to accomplish the aggregation phase of the Substrafl experiment"
   ]
  },
  {
   "cell_type": "code",
   "execution_count": 4,
   "metadata": {},
   "outputs": [
    {
     "data": {
      "text/plain": [
       "('dense', 'dense_1')"
      ]
     },
     "execution_count": 4,
     "metadata": {},
     "output_type": "execute_result"
    }
   ],
   "source": [
    "# automatic name creation\n",
    "model.layers[0].name,model.layers[1].name"
   ]
  },
  {
   "cell_type": "code",
   "execution_count": 5,
   "metadata": {},
   "outputs": [
    {
     "data": {
      "text/plain": [
       "[array([[-0.49551314,  0.35221773,  0.5255818 ,  0.15151203,  0.44275302,\n",
       "          0.7328324 ,  0.0546217 ,  0.16471899,  0.22105348,  0.02140474]],\n",
       "       dtype=float32),\n",
       " array([0., 0., 0., 0., 0., 0., 0., 0., 0., 0.], dtype=float32)]"
      ]
     },
     "execution_count": 5,
     "metadata": {},
     "output_type": "execute_result"
    }
   ],
   "source": [
    "model.layers[0].get_weights() # gives (weights, bias)"
   ]
  },
  {
   "cell_type": "code",
   "execution_count": 6,
   "metadata": {},
   "outputs": [
    {
     "data": {
      "text/plain": [
       "'4'"
      ]
     },
     "execution_count": 6,
     "metadata": {},
     "output_type": "execute_result"
    }
   ],
   "source": [
    "f'{2+2}'"
   ]
  },
  {
   "cell_type": "code",
   "execution_count": 7,
   "metadata": {},
   "outputs": [
    {
     "data": {
      "text/plain": [
       "OrderedDict([('config',\n",
       "              {'name': 'sequential',\n",
       "               'layers': [{'class_name': 'InputLayer',\n",
       "                 'config': {'batch_input_shape': (None, 1),\n",
       "                  'dtype': 'float32',\n",
       "                  'sparse': False,\n",
       "                  'ragged': False,\n",
       "                  'name': 'dense_input'}},\n",
       "                {'class_name': 'Dense',\n",
       "                 'config': {'name': 'dense',\n",
       "                  'trainable': True,\n",
       "                  'dtype': 'float32',\n",
       "                  'batch_input_shape': (None, 1),\n",
       "                  'units': 10,\n",
       "                  'activation': 'linear',\n",
       "                  'use_bias': True,\n",
       "                  'kernel_initializer': {'class_name': 'GlorotUniform',\n",
       "                   'config': {'seed': None}},\n",
       "                  'bias_initializer': {'class_name': 'Zeros', 'config': {}},\n",
       "                  'kernel_regularizer': None,\n",
       "                  'bias_regularizer': None,\n",
       "                  'activity_regularizer': None,\n",
       "                  'kernel_constraint': None,\n",
       "                  'bias_constraint': None}},\n",
       "                {'class_name': 'Dense',\n",
       "                 'config': {'name': 'dense_1',\n",
       "                  'trainable': True,\n",
       "                  'dtype': 'float32',\n",
       "                  'units': 10,\n",
       "                  'activation': 'linear',\n",
       "                  'use_bias': True,\n",
       "                  'kernel_initializer': {'class_name': 'GlorotUniform',\n",
       "                   'config': {'seed': None}},\n",
       "                  'bias_initializer': {'class_name': 'Zeros', 'config': {}},\n",
       "                  'kernel_regularizer': None,\n",
       "                  'bias_regularizer': None,\n",
       "                  'activity_regularizer': None,\n",
       "                  'kernel_constraint': None,\n",
       "                  'bias_constraint': None}}]}),\n",
       "             ('weights',\n",
       "              [array([[-0.49551314,  0.35221773,  0.5255818 ,  0.15151203,  0.44275302,\n",
       "                        0.7328324 ,  0.0546217 ,  0.16471899,  0.22105348,  0.02140474]],\n",
       "                     dtype=float32),\n",
       "               array([0., 0., 0., 0., 0., 0., 0., 0., 0., 0.], dtype=float32),\n",
       "               array([[ 0.41724896,  0.45191437,  0.340787  ,  0.5463778 , -0.38249683,\n",
       "                       -0.23618022, -0.18816003, -0.42619744, -0.00390798,  0.07460922],\n",
       "                      [-0.15487856,  0.39861256, -0.5139727 , -0.30955482,  0.31888008,\n",
       "                       -0.30110312, -0.4486343 , -0.41079572, -0.44411612,  0.3140511 ],\n",
       "                      [ 0.23384207,  0.30219597, -0.23864621,  0.28036636, -0.3695372 ,\n",
       "                        0.3537342 , -0.12034097, -0.03022414, -0.52226186, -0.26620534],\n",
       "                      [ 0.06877089,  0.29128593,  0.52339864,  0.3472799 ,  0.50432336,\n",
       "                        0.2829789 , -0.28482318,  0.4858247 , -0.19799495, -0.47770575],\n",
       "                      [ 0.10424334,  0.11133552, -0.48150936, -0.42249018,  0.49281728,\n",
       "                       -0.4280006 , -0.3307554 ,  0.06750327,  0.174627  , -0.47370154],\n",
       "                      [ 0.4913751 ,  0.03230464, -0.15367767,  0.48544955, -0.43481857,\n",
       "                        0.29522747,  0.54373   , -0.09150431,  0.45970392, -0.19899914],\n",
       "                      [ 0.03650498,  0.4496855 , -0.03653359, -0.3541999 ,  0.47765672,\n",
       "                       -0.23695225, -0.0752573 , -0.3124152 , -0.144582  , -0.2634595 ],\n",
       "                      [ 0.51039684, -0.15062559, -0.49538413, -0.5339319 , -0.35251266,\n",
       "                       -0.29848415, -0.25045052,  0.11058295, -0.46450272, -0.15623352],\n",
       "                      [ 0.24828029, -0.49921975,  0.0015322 ,  0.11302716,  0.11707383,\n",
       "                       -0.49500504, -0.39658415,  0.16273844, -0.04634124,  0.02971697],\n",
       "                      [ 0.26794606, -0.03621602,  0.2539    , -0.07491907,  0.26523495,\n",
       "                        0.25033993,  0.32875353, -0.12192696, -0.48402566,  0.5258311 ]],\n",
       "                     dtype=float32),\n",
       "               array([0., 0., 0., 0., 0., 0., 0., 0., 0., 0.], dtype=float32)])])"
      ]
     },
     "execution_count": 7,
     "metadata": {},
     "output_type": "execute_result"
    }
   ],
   "source": [
    "weight_manager.model_state_dict(model)"
   ]
  },
  {
   "cell_type": "code",
   "execution_count": 8,
   "metadata": {},
   "outputs": [
    {
     "data": {
      "text/plain": [
       "{'name': 'Adam',\n",
       " 'weight_decay': None,\n",
       " 'clipnorm': None,\n",
       " 'global_clipnorm': None,\n",
       " 'clipvalue': None,\n",
       " 'use_ema': False,\n",
       " 'ema_momentum': 0.99,\n",
       " 'ema_overwrite_frequency': None,\n",
       " 'jit_compile': False,\n",
       " 'is_legacy_optimizer': False,\n",
       " 'learning_rate': 0.001,\n",
       " 'beta_1': 0.9,\n",
       " 'beta_2': 0.999,\n",
       " 'epsilon': 1e-07,\n",
       " 'amsgrad': False}"
      ]
     },
     "execution_count": 8,
     "metadata": {},
     "output_type": "execute_result"
    }
   ],
   "source": [
    "optimizer.get_config() # OK, et 'state ?'"
   ]
  },
  {
   "cell_type": "code",
   "execution_count": 9,
   "metadata": {},
   "outputs": [
    {
     "data": {
      "text/plain": [
       "{'name': 'sequential',\n",
       " 'layers': [{'class_name': 'InputLayer',\n",
       "   'config': {'batch_input_shape': (None, 1),\n",
       "    'dtype': 'float32',\n",
       "    'sparse': False,\n",
       "    'ragged': False,\n",
       "    'name': 'dense_input'}},\n",
       "  {'class_name': 'Dense',\n",
       "   'config': {'name': 'dense',\n",
       "    'trainable': True,\n",
       "    'dtype': 'float32',\n",
       "    'batch_input_shape': (None, 1),\n",
       "    'units': 10,\n",
       "    'activation': 'linear',\n",
       "    'use_bias': True,\n",
       "    'kernel_initializer': {'class_name': 'GlorotUniform',\n",
       "     'config': {'seed': None}},\n",
       "    'bias_initializer': {'class_name': 'Zeros', 'config': {}},\n",
       "    'kernel_regularizer': None,\n",
       "    'bias_regularizer': None,\n",
       "    'activity_regularizer': None,\n",
       "    'kernel_constraint': None,\n",
       "    'bias_constraint': None}},\n",
       "  {'class_name': 'Dense',\n",
       "   'config': {'name': 'dense_1',\n",
       "    'trainable': True,\n",
       "    'dtype': 'float32',\n",
       "    'units': 10,\n",
       "    'activation': 'linear',\n",
       "    'use_bias': True,\n",
       "    'kernel_initializer': {'class_name': 'GlorotUniform',\n",
       "     'config': {'seed': None}},\n",
       "    'bias_initializer': {'class_name': 'Zeros', 'config': {}},\n",
       "    'kernel_regularizer': None,\n",
       "    'bias_regularizer': None,\n",
       "    'activity_regularizer': None,\n",
       "    'kernel_constraint': None,\n",
       "    'bias_constraint': None}}]}"
      ]
     },
     "execution_count": 9,
     "metadata": {},
     "output_type": "execute_result"
    }
   ],
   "source": [
    "model.get_config()"
   ]
  },
  {
   "cell_type": "code",
   "execution_count": 10,
   "metadata": {},
   "outputs": [
    {
     "data": {
      "text/plain": [
       "[array([[-0.49551314,  0.35221773,  0.5255818 ,  0.15151203,  0.44275302,\n",
       "          0.7328324 ,  0.0546217 ,  0.16471899,  0.22105348,  0.02140474]],\n",
       "       dtype=float32),\n",
       " array([0., 0., 0., 0., 0., 0., 0., 0., 0., 0.], dtype=float32),\n",
       " array([[ 0.41724896,  0.45191437,  0.340787  ,  0.5463778 , -0.38249683,\n",
       "         -0.23618022, -0.18816003, -0.42619744, -0.00390798,  0.07460922],\n",
       "        [-0.15487856,  0.39861256, -0.5139727 , -0.30955482,  0.31888008,\n",
       "         -0.30110312, -0.4486343 , -0.41079572, -0.44411612,  0.3140511 ],\n",
       "        [ 0.23384207,  0.30219597, -0.23864621,  0.28036636, -0.3695372 ,\n",
       "          0.3537342 , -0.12034097, -0.03022414, -0.52226186, -0.26620534],\n",
       "        [ 0.06877089,  0.29128593,  0.52339864,  0.3472799 ,  0.50432336,\n",
       "          0.2829789 , -0.28482318,  0.4858247 , -0.19799495, -0.47770575],\n",
       "        [ 0.10424334,  0.11133552, -0.48150936, -0.42249018,  0.49281728,\n",
       "         -0.4280006 , -0.3307554 ,  0.06750327,  0.174627  , -0.47370154],\n",
       "        [ 0.4913751 ,  0.03230464, -0.15367767,  0.48544955, -0.43481857,\n",
       "          0.29522747,  0.54373   , -0.09150431,  0.45970392, -0.19899914],\n",
       "        [ 0.03650498,  0.4496855 , -0.03653359, -0.3541999 ,  0.47765672,\n",
       "         -0.23695225, -0.0752573 , -0.3124152 , -0.144582  , -0.2634595 ],\n",
       "        [ 0.51039684, -0.15062559, -0.49538413, -0.5339319 , -0.35251266,\n",
       "         -0.29848415, -0.25045052,  0.11058295, -0.46450272, -0.15623352],\n",
       "        [ 0.24828029, -0.49921975,  0.0015322 ,  0.11302716,  0.11707383,\n",
       "         -0.49500504, -0.39658415,  0.16273844, -0.04634124,  0.02971697],\n",
       "        [ 0.26794606, -0.03621602,  0.2539    , -0.07491907,  0.26523495,\n",
       "          0.25033993,  0.32875353, -0.12192696, -0.48402566,  0.5258311 ]],\n",
       "       dtype=float32),\n",
       " array([0., 0., 0., 0., 0., 0., 0., 0., 0., 0.], dtype=float32)]"
      ]
     },
     "execution_count": 10,
     "metadata": {},
     "output_type": "execute_result"
    }
   ],
   "source": [
    "model.get_weights() #list"
   ]
  },
  {
   "attachments": {},
   "cell_type": "markdown",
   "metadata": {},
   "source": [
    "# Testing serialization of tf objects"
   ]
  },
  {
   "cell_type": "code",
   "execution_count": 11,
   "metadata": {},
   "outputs": [],
   "source": [
    "checkpoint = {\n",
    "    \"model_state_dict\" : weight_manager.model_state_dict(model),\n",
    "    \"optimizer_state_dict\" : optimizer.get_config()\n",
    "}"
   ]
  },
  {
   "cell_type": "code",
   "execution_count": 12,
   "metadata": {},
   "outputs": [],
   "source": [
    "with open(pathlib.Path.cwd() / \"test_serialization\", \"wb\") as f:\n",
    "    cloudpickle.dump(checkpoint, f)"
   ]
  },
  {
   "cell_type": "code",
   "execution_count": 13,
   "metadata": {},
   "outputs": [],
   "source": [
    "with open(pathlib.Path.cwd() / \"test_serialization\", \"rb\") as f:\n",
    "        checkpoint = cloudpickle.load(f)"
   ]
  },
  {
   "cell_type": "code",
   "execution_count": 14,
   "metadata": {},
   "outputs": [
    {
     "data": {
      "text/plain": [
       "{'model_state_dict': OrderedDict([('config',\n",
       "               {'name': 'sequential',\n",
       "                'layers': [{'class_name': 'InputLayer',\n",
       "                  'config': {'batch_input_shape': (None, 1),\n",
       "                   'dtype': 'float32',\n",
       "                   'sparse': False,\n",
       "                   'ragged': False,\n",
       "                   'name': 'dense_input'}},\n",
       "                 {'class_name': 'Dense',\n",
       "                  'config': {'name': 'dense',\n",
       "                   'trainable': True,\n",
       "                   'dtype': 'float32',\n",
       "                   'batch_input_shape': (None, 1),\n",
       "                   'units': 10,\n",
       "                   'activation': 'linear',\n",
       "                   'use_bias': True,\n",
       "                   'kernel_initializer': {'class_name': 'GlorotUniform',\n",
       "                    'config': {'seed': None}},\n",
       "                   'bias_initializer': {'class_name': 'Zeros', 'config': {}},\n",
       "                   'kernel_regularizer': None,\n",
       "                   'bias_regularizer': None,\n",
       "                   'activity_regularizer': None,\n",
       "                   'kernel_constraint': None,\n",
       "                   'bias_constraint': None}},\n",
       "                 {'class_name': 'Dense',\n",
       "                  'config': {'name': 'dense_1',\n",
       "                   'trainable': True,\n",
       "                   'dtype': 'float32',\n",
       "                   'units': 10,\n",
       "                   'activation': 'linear',\n",
       "                   'use_bias': True,\n",
       "                   'kernel_initializer': {'class_name': 'GlorotUniform',\n",
       "                    'config': {'seed': None}},\n",
       "                   'bias_initializer': {'class_name': 'Zeros', 'config': {}},\n",
       "                   'kernel_regularizer': None,\n",
       "                   'bias_regularizer': None,\n",
       "                   'activity_regularizer': None,\n",
       "                   'kernel_constraint': None,\n",
       "                   'bias_constraint': None}}]}),\n",
       "              ('weights',\n",
       "               [array([[-0.49551314,  0.35221773,  0.5255818 ,  0.15151203,  0.44275302,\n",
       "                         0.7328324 ,  0.0546217 ,  0.16471899,  0.22105348,  0.02140474]],\n",
       "                      dtype=float32),\n",
       "                array([0., 0., 0., 0., 0., 0., 0., 0., 0., 0.], dtype=float32),\n",
       "                array([[ 0.41724896,  0.45191437,  0.340787  ,  0.5463778 , -0.38249683,\n",
       "                        -0.23618022, -0.18816003, -0.42619744, -0.00390798,  0.07460922],\n",
       "                       [-0.15487856,  0.39861256, -0.5139727 , -0.30955482,  0.31888008,\n",
       "                        -0.30110312, -0.4486343 , -0.41079572, -0.44411612,  0.3140511 ],\n",
       "                       [ 0.23384207,  0.30219597, -0.23864621,  0.28036636, -0.3695372 ,\n",
       "                         0.3537342 , -0.12034097, -0.03022414, -0.52226186, -0.26620534],\n",
       "                       [ 0.06877089,  0.29128593,  0.52339864,  0.3472799 ,  0.50432336,\n",
       "                         0.2829789 , -0.28482318,  0.4858247 , -0.19799495, -0.47770575],\n",
       "                       [ 0.10424334,  0.11133552, -0.48150936, -0.42249018,  0.49281728,\n",
       "                        -0.4280006 , -0.3307554 ,  0.06750327,  0.174627  , -0.47370154],\n",
       "                       [ 0.4913751 ,  0.03230464, -0.15367767,  0.48544955, -0.43481857,\n",
       "                         0.29522747,  0.54373   , -0.09150431,  0.45970392, -0.19899914],\n",
       "                       [ 0.03650498,  0.4496855 , -0.03653359, -0.3541999 ,  0.47765672,\n",
       "                        -0.23695225, -0.0752573 , -0.3124152 , -0.144582  , -0.2634595 ],\n",
       "                       [ 0.51039684, -0.15062559, -0.49538413, -0.5339319 , -0.35251266,\n",
       "                        -0.29848415, -0.25045052,  0.11058295, -0.46450272, -0.15623352],\n",
       "                       [ 0.24828029, -0.49921975,  0.0015322 ,  0.11302716,  0.11707383,\n",
       "                        -0.49500504, -0.39658415,  0.16273844, -0.04634124,  0.02971697],\n",
       "                       [ 0.26794606, -0.03621602,  0.2539    , -0.07491907,  0.26523495,\n",
       "                         0.25033993,  0.32875353, -0.12192696, -0.48402566,  0.5258311 ]],\n",
       "                      dtype=float32),\n",
       "                array([0., 0., 0., 0., 0., 0., 0., 0., 0., 0.], dtype=float32)])]),\n",
       " 'optimizer_state_dict': {'name': 'Adam',\n",
       "  'weight_decay': None,\n",
       "  'clipnorm': None,\n",
       "  'global_clipnorm': None,\n",
       "  'clipvalue': None,\n",
       "  'use_ema': False,\n",
       "  'ema_momentum': 0.99,\n",
       "  'ema_overwrite_frequency': None,\n",
       "  'jit_compile': False,\n",
       "  'is_legacy_optimizer': False,\n",
       "  'learning_rate': 0.001,\n",
       "  'beta_1': 0.9,\n",
       "  'beta_2': 0.999,\n",
       "  'epsilon': 1e-07,\n",
       "  'amsgrad': False}}"
      ]
     },
     "execution_count": 14,
     "metadata": {},
     "output_type": "execute_result"
    }
   ],
   "source": [
    "checkpoint"
   ]
  },
  {
   "cell_type": "code",
   "execution_count": 15,
   "metadata": {},
   "outputs": [],
   "source": [
    "optimizer_s = tf.keras.optimizers.serialize(optimizer)"
   ]
  },
  {
   "cell_type": "code",
   "execution_count": 16,
   "metadata": {},
   "outputs": [
    {
     "data": {
      "text/plain": [
       "(dict, dict)"
      ]
     },
     "execution_count": 16,
     "metadata": {},
     "output_type": "execute_result"
    }
   ],
   "source": [
    "type(optimizer.get_config()), type(optimizer_s)"
   ]
  },
  {
   "cell_type": "code",
   "execution_count": 17,
   "metadata": {},
   "outputs": [
    {
     "data": {
      "text/plain": [
       "({'name': 'Adam',\n",
       "  'weight_decay': None,\n",
       "  'clipnorm': None,\n",
       "  'global_clipnorm': None,\n",
       "  'clipvalue': None,\n",
       "  'use_ema': False,\n",
       "  'ema_momentum': 0.99,\n",
       "  'ema_overwrite_frequency': None,\n",
       "  'jit_compile': False,\n",
       "  'is_legacy_optimizer': False,\n",
       "  'learning_rate': 0.001,\n",
       "  'beta_1': 0.9,\n",
       "  'beta_2': 0.999,\n",
       "  'epsilon': 1e-07,\n",
       "  'amsgrad': False},\n",
       " {'class_name': 'Custom>Adam',\n",
       "  'config': {'name': 'Adam',\n",
       "   'weight_decay': None,\n",
       "   'clipnorm': None,\n",
       "   'global_clipnorm': None,\n",
       "   'clipvalue': None,\n",
       "   'use_ema': False,\n",
       "   'ema_momentum': 0.99,\n",
       "   'ema_overwrite_frequency': None,\n",
       "   'jit_compile': False,\n",
       "   'is_legacy_optimizer': False,\n",
       "   'learning_rate': 0.001,\n",
       "   'beta_1': 0.9,\n",
       "   'beta_2': 0.999,\n",
       "   'epsilon': 1e-07,\n",
       "   'amsgrad': False}})"
      ]
     },
     "execution_count": 17,
     "metadata": {},
     "output_type": "execute_result"
    }
   ],
   "source": [
    "optimizer.get_config(), optimizer_s"
   ]
  },
  {
   "cell_type": "code",
   "execution_count": 18,
   "metadata": {},
   "outputs": [
    {
     "data": {
      "text/plain": [
       "<function keras.optimizers.serialize(optimizer, use_legacy_format=False)>"
      ]
     },
     "execution_count": 18,
     "metadata": {},
     "output_type": "execute_result"
    }
   ],
   "source": [
    "tf.keras.optimizers.serialize"
   ]
  },
  {
   "cell_type": "code",
   "execution_count": 19,
   "metadata": {},
   "outputs": [],
   "source": [
    "model_s_d= tf.keras.layers.serialize(model)"
   ]
  },
  {
   "cell_type": "code",
   "execution_count": 20,
   "metadata": {},
   "outputs": [
    {
     "data": {
      "text/plain": [
       "{'class_name': 'Sequential',\n",
       " 'config': {'name': 'sequential',\n",
       "  'layers': [{'class_name': 'InputLayer',\n",
       "    'config': {'batch_input_shape': (None, 1),\n",
       "     'dtype': 'float32',\n",
       "     'sparse': False,\n",
       "     'ragged': False,\n",
       "     'name': 'dense_input'}},\n",
       "   {'class_name': 'Dense',\n",
       "    'config': {'name': 'dense',\n",
       "     'trainable': True,\n",
       "     'dtype': 'float32',\n",
       "     'batch_input_shape': (None, 1),\n",
       "     'units': 10,\n",
       "     'activation': 'linear',\n",
       "     'use_bias': True,\n",
       "     'kernel_initializer': {'class_name': 'GlorotUniform',\n",
       "      'config': {'seed': None}},\n",
       "     'bias_initializer': {'class_name': 'Zeros', 'config': {}},\n",
       "     'kernel_regularizer': None,\n",
       "     'bias_regularizer': None,\n",
       "     'activity_regularizer': None,\n",
       "     'kernel_constraint': None,\n",
       "     'bias_constraint': None}},\n",
       "   {'class_name': 'Dense',\n",
       "    'config': {'name': 'dense_1',\n",
       "     'trainable': True,\n",
       "     'dtype': 'float32',\n",
       "     'units': 10,\n",
       "     'activation': 'linear',\n",
       "     'use_bias': True,\n",
       "     'kernel_initializer': {'class_name': 'GlorotUniform',\n",
       "      'config': {'seed': None}},\n",
       "     'bias_initializer': {'class_name': 'Zeros', 'config': {}},\n",
       "     'kernel_regularizer': None,\n",
       "     'bias_regularizer': None,\n",
       "     'activity_regularizer': None,\n",
       "     'kernel_constraint': None,\n",
       "     'bias_constraint': None}}]}}"
      ]
     },
     "execution_count": 20,
     "metadata": {},
     "output_type": "execute_result"
    }
   ],
   "source": [
    "model_s_d"
   ]
  },
  {
   "cell_type": "code",
   "execution_count": 21,
   "metadata": {},
   "outputs": [
    {
     "data": {
      "text/plain": [
       "{'name': 'sequential',\n",
       " 'layers': [{'class_name': 'InputLayer',\n",
       "   'config': {'batch_input_shape': (None, 1),\n",
       "    'dtype': 'float32',\n",
       "    'sparse': False,\n",
       "    'ragged': False,\n",
       "    'name': 'dense_input'}},\n",
       "  {'class_name': 'Dense',\n",
       "   'config': {'name': 'dense',\n",
       "    'trainable': True,\n",
       "    'dtype': 'float32',\n",
       "    'batch_input_shape': (None, 1),\n",
       "    'units': 10,\n",
       "    'activation': 'linear',\n",
       "    'use_bias': True,\n",
       "    'kernel_initializer': {'class_name': 'GlorotUniform',\n",
       "     'config': {'seed': None}},\n",
       "    'bias_initializer': {'class_name': 'Zeros', 'config': {}},\n",
       "    'kernel_regularizer': None,\n",
       "    'bias_regularizer': None,\n",
       "    'activity_regularizer': None,\n",
       "    'kernel_constraint': None,\n",
       "    'bias_constraint': None}},\n",
       "  {'class_name': 'Dense',\n",
       "   'config': {'name': 'dense_1',\n",
       "    'trainable': True,\n",
       "    'dtype': 'float32',\n",
       "    'units': 10,\n",
       "    'activation': 'linear',\n",
       "    'use_bias': True,\n",
       "    'kernel_initializer': {'class_name': 'GlorotUniform',\n",
       "     'config': {'seed': None}},\n",
       "    'bias_initializer': {'class_name': 'Zeros', 'config': {}},\n",
       "    'kernel_regularizer': None,\n",
       "    'bias_regularizer': None,\n",
       "    'activity_regularizer': None,\n",
       "    'kernel_constraint': None,\n",
       "    'bias_constraint': None}}]}"
      ]
     },
     "execution_count": 21,
     "metadata": {},
     "output_type": "execute_result"
    }
   ],
   "source": [
    "model.get_config()"
   ]
  },
  {
   "attachments": {},
   "cell_type": "markdown",
   "metadata": {},
   "source": [
    "# Finding how to properly initialize models with config, weights, optimizer, loss, metrics"
   ]
  },
  {
   "attachments": {},
   "cell_type": "markdown",
   "metadata": {},
   "source": [
    "For a model:\n",
    "- *config* = its structure (layers' type and dimension)\n",
    "- *weights* = layers' weights\n",
    "- *compile config* = its optimizer, loss, metrics and other\n",
    "\n",
    "We want here to understand how to transfer those caracteristics between model, and how to save and load them."
   ]
  },
  {
   "attachments": {},
   "cell_type": "markdown",
   "metadata": {},
   "source": [
    "To get the config with which the model has been ***created***"
   ]
  },
  {
   "cell_type": "code",
   "execution_count": 22,
   "metadata": {},
   "outputs": [
    {
     "data": {
      "text/plain": [
       "{'name': 'sequential',\n",
       " 'layers': [{'class_name': 'InputLayer',\n",
       "   'config': {'batch_input_shape': (None, 1),\n",
       "    'dtype': 'float32',\n",
       "    'sparse': False,\n",
       "    'ragged': False,\n",
       "    'name': 'dense_input'}},\n",
       "  {'class_name': 'Dense',\n",
       "   'config': {'name': 'dense',\n",
       "    'trainable': True,\n",
       "    'dtype': 'float32',\n",
       "    'batch_input_shape': (None, 1),\n",
       "    'units': 10,\n",
       "    'activation': 'linear',\n",
       "    'use_bias': True,\n",
       "    'kernel_initializer': {'class_name': 'GlorotUniform',\n",
       "     'config': {'seed': None}},\n",
       "    'bias_initializer': {'class_name': 'Zeros', 'config': {}},\n",
       "    'kernel_regularizer': None,\n",
       "    'bias_regularizer': None,\n",
       "    'activity_regularizer': None,\n",
       "    'kernel_constraint': None,\n",
       "    'bias_constraint': None}},\n",
       "  {'class_name': 'Dense',\n",
       "   'config': {'name': 'dense_1',\n",
       "    'trainable': True,\n",
       "    'dtype': 'float32',\n",
       "    'units': 10,\n",
       "    'activation': 'linear',\n",
       "    'use_bias': True,\n",
       "    'kernel_initializer': {'class_name': 'GlorotUniform',\n",
       "     'config': {'seed': None}},\n",
       "    'bias_initializer': {'class_name': 'Zeros', 'config': {}},\n",
       "    'kernel_regularizer': None,\n",
       "    'bias_regularizer': None,\n",
       "    'activity_regularizer': None,\n",
       "    'kernel_constraint': None,\n",
       "    'bias_constraint': None}}]}"
      ]
     },
     "execution_count": 22,
     "metadata": {},
     "output_type": "execute_result"
    }
   ],
   "source": [
    "model.get_config()"
   ]
  },
  {
   "cell_type": "code",
   "execution_count": 23,
   "metadata": {},
   "outputs": [
    {
     "data": {
      "text/plain": [
       "[array([[-0.49551314,  0.35221773,  0.5255818 ,  0.15151203,  0.44275302,\n",
       "          0.7328324 ,  0.0546217 ,  0.16471899,  0.22105348,  0.02140474]],\n",
       "       dtype=float32),\n",
       " array([0., 0., 0., 0., 0., 0., 0., 0., 0., 0.], dtype=float32),\n",
       " array([[ 0.41724896,  0.45191437,  0.340787  ,  0.5463778 , -0.38249683,\n",
       "         -0.23618022, -0.18816003, -0.42619744, -0.00390798,  0.07460922],\n",
       "        [-0.15487856,  0.39861256, -0.5139727 , -0.30955482,  0.31888008,\n",
       "         -0.30110312, -0.4486343 , -0.41079572, -0.44411612,  0.3140511 ],\n",
       "        [ 0.23384207,  0.30219597, -0.23864621,  0.28036636, -0.3695372 ,\n",
       "          0.3537342 , -0.12034097, -0.03022414, -0.52226186, -0.26620534],\n",
       "        [ 0.06877089,  0.29128593,  0.52339864,  0.3472799 ,  0.50432336,\n",
       "          0.2829789 , -0.28482318,  0.4858247 , -0.19799495, -0.47770575],\n",
       "        [ 0.10424334,  0.11133552, -0.48150936, -0.42249018,  0.49281728,\n",
       "         -0.4280006 , -0.3307554 ,  0.06750327,  0.174627  , -0.47370154],\n",
       "        [ 0.4913751 ,  0.03230464, -0.15367767,  0.48544955, -0.43481857,\n",
       "          0.29522747,  0.54373   , -0.09150431,  0.45970392, -0.19899914],\n",
       "        [ 0.03650498,  0.4496855 , -0.03653359, -0.3541999 ,  0.47765672,\n",
       "         -0.23695225, -0.0752573 , -0.3124152 , -0.144582  , -0.2634595 ],\n",
       "        [ 0.51039684, -0.15062559, -0.49538413, -0.5339319 , -0.35251266,\n",
       "         -0.29848415, -0.25045052,  0.11058295, -0.46450272, -0.15623352],\n",
       "        [ 0.24828029, -0.49921975,  0.0015322 ,  0.11302716,  0.11707383,\n",
       "         -0.49500504, -0.39658415,  0.16273844, -0.04634124,  0.02971697],\n",
       "        [ 0.26794606, -0.03621602,  0.2539    , -0.07491907,  0.26523495,\n",
       "          0.25033993,  0.32875353, -0.12192696, -0.48402566,  0.5258311 ]],\n",
       "       dtype=float32),\n",
       " array([0., 0., 0., 0., 0., 0., 0., 0., 0., 0.], dtype=float32)]"
      ]
     },
     "execution_count": 23,
     "metadata": {},
     "output_type": "execute_result"
    }
   ],
   "source": [
    "model.get_weights()"
   ]
  },
  {
   "attachments": {},
   "cell_type": "markdown",
   "metadata": {},
   "source": [
    "To get the config with which the model has been ***compiled*** : "
   ]
  },
  {
   "cell_type": "code",
   "execution_count": 24,
   "metadata": {},
   "outputs": [
    {
     "data": {
      "text/plain": [
       "NoneType"
      ]
     },
     "execution_count": 24,
     "metadata": {},
     "output_type": "execute_result"
    }
   ],
   "source": [
    "type(model.get_compile_config())"
   ]
  },
  {
   "attachments": {},
   "cell_type": "markdown",
   "metadata": {},
   "source": [
    "it has not been compiled yet so it is normal\n",
    "if we compile it :"
   ]
  },
  {
   "cell_type": "code",
   "execution_count": 25,
   "metadata": {},
   "outputs": [],
   "source": [
    "model.compile(optimizer=optimizer, loss=loss)"
   ]
  },
  {
   "cell_type": "code",
   "execution_count": 26,
   "metadata": {},
   "outputs": [],
   "source": [
    "conf= model.get_compile_config()"
   ]
  },
  {
   "cell_type": "code",
   "execution_count": 27,
   "metadata": {},
   "outputs": [
    {
     "data": {
      "text/plain": [
       "{'optimizer': {'module': 'keras.optimizers',\n",
       "  'class_name': 'Adam',\n",
       "  'config': {'name': 'Adam',\n",
       "   'weight_decay': None,\n",
       "   'clipnorm': None,\n",
       "   'global_clipnorm': None,\n",
       "   'clipvalue': None,\n",
       "   'use_ema': False,\n",
       "   'ema_momentum': 0.99,\n",
       "   'ema_overwrite_frequency': None,\n",
       "   'jit_compile': False,\n",
       "   'is_legacy_optimizer': False,\n",
       "   'learning_rate': 0.0010000000474974513,\n",
       "   'beta_1': 0.9,\n",
       "   'beta_2': 0.999,\n",
       "   'epsilon': 1e-07,\n",
       "   'amsgrad': False},\n",
       "  'registered_name': None},\n",
       " 'loss': {'module': 'keras.losses',\n",
       "  'class_name': 'SparseCategoricalCrossentropy',\n",
       "  'config': {'reduction': 'auto',\n",
       "   'name': 'sparse_categorical_crossentropy',\n",
       "   'from_logits': True,\n",
       "   'ignore_class': None},\n",
       "  'registered_name': None},\n",
       " 'metrics': None,\n",
       " 'loss_weights': None,\n",
       " 'weighted_metrics': None,\n",
       " 'run_eagerly': None,\n",
       " 'steps_per_execution': None,\n",
       " 'jit_compile': None}"
      ]
     },
     "execution_count": 27,
     "metadata": {},
     "output_type": "execute_result"
    }
   ],
   "source": [
    "conf"
   ]
  },
  {
   "cell_type": "code",
   "execution_count": 28,
   "metadata": {},
   "outputs": [
    {
     "data": {
      "text/plain": [
       "dict_keys(['optimizer', 'loss', 'metrics', 'loss_weights', 'weighted_metrics', 'run_eagerly', 'steps_per_execution', 'jit_compile'])"
      ]
     },
     "execution_count": 28,
     "metadata": {},
     "output_type": "execute_result"
    }
   ],
   "source": [
    "conf.keys()"
   ]
  },
  {
   "cell_type": "code",
   "execution_count": 29,
   "metadata": {},
   "outputs": [],
   "source": [
    "conf['loss_weights']"
   ]
  },
  {
   "attachments": {},
   "cell_type": "markdown",
   "metadata": {},
   "source": [
    "Creating a new model"
   ]
  },
  {
   "cell_type": "code",
   "execution_count": 30,
   "metadata": {},
   "outputs": [],
   "source": [
    "model2 = tf.keras.Sequential()"
   ]
  },
  {
   "attachments": {},
   "cell_type": "markdown",
   "metadata": {},
   "source": [
    "Compiling it from model's config, we see the differences between configs"
   ]
  },
  {
   "cell_type": "code",
   "execution_count": 31,
   "metadata": {},
   "outputs": [],
   "source": [
    "model2.compile_from_config(conf)"
   ]
  },
  {
   "cell_type": "code",
   "execution_count": 32,
   "metadata": {},
   "outputs": [
    {
     "data": {
      "text/plain": [
       "{'name': 'sequential_1', 'layers': []}"
      ]
     },
     "execution_count": 32,
     "metadata": {},
     "output_type": "execute_result"
    }
   ],
   "source": [
    "model2.get_config()"
   ]
  },
  {
   "cell_type": "code",
   "execution_count": 33,
   "metadata": {},
   "outputs": [
    {
     "data": {
      "text/plain": [
       "{'optimizer': {'module': 'keras.optimizers',\n",
       "  'class_name': 'Adam',\n",
       "  'config': {'name': 'Adam',\n",
       "   'weight_decay': None,\n",
       "   'clipnorm': None,\n",
       "   'global_clipnorm': None,\n",
       "   'clipvalue': None,\n",
       "   'use_ema': False,\n",
       "   'ema_momentum': 0.99,\n",
       "   'ema_overwrite_frequency': None,\n",
       "   'jit_compile': False,\n",
       "   'is_legacy_optimizer': False,\n",
       "   'learning_rate': 0.0010000000474974513,\n",
       "   'beta_1': 0.9,\n",
       "   'beta_2': 0.999,\n",
       "   'epsilon': 1e-07,\n",
       "   'amsgrad': False},\n",
       "  'registered_name': None},\n",
       " 'loss': {'module': 'keras.losses',\n",
       "  'class_name': 'SparseCategoricalCrossentropy',\n",
       "  'config': {'reduction': 'auto',\n",
       "   'name': 'sparse_categorical_crossentropy',\n",
       "   'from_logits': True,\n",
       "   'ignore_class': None},\n",
       "  'registered_name': None},\n",
       " 'metrics': None,\n",
       " 'loss_weights': None,\n",
       " 'weighted_metrics': None,\n",
       " 'run_eagerly': None,\n",
       " 'steps_per_execution': None,\n",
       " 'jit_compile': None}"
      ]
     },
     "execution_count": 33,
     "metadata": {},
     "output_type": "execute_result"
    }
   ],
   "source": [
    "model2.get_compile_config()"
   ]
  },
  {
   "cell_type": "code",
   "execution_count": 34,
   "metadata": {},
   "outputs": [],
   "source": [
    "model3=tf.keras.Sequential()"
   ]
  },
  {
   "cell_type": "code",
   "execution_count": 35,
   "metadata": {},
   "outputs": [
    {
     "data": {
      "text/plain": [
       "<keras.engine.sequential.Sequential at 0x2a6ec194250>"
      ]
     },
     "execution_count": 35,
     "metadata": {},
     "output_type": "execute_result"
    }
   ],
   "source": [
    "model3.from_config(model.get_config())"
   ]
  },
  {
   "cell_type": "code",
   "execution_count": 36,
   "metadata": {},
   "outputs": [
    {
     "data": {
      "text/plain": [
       "{'name': 'sequential_2', 'layers': []}"
      ]
     },
     "execution_count": 36,
     "metadata": {},
     "output_type": "execute_result"
    }
   ],
   "source": [
    "model3.get_config()"
   ]
  },
  {
   "cell_type": "code",
   "execution_count": 37,
   "metadata": {},
   "outputs": [],
   "source": [
    "model3.compile_from_config(model.get_compile_config())"
   ]
  },
  {
   "cell_type": "code",
   "execution_count": 38,
   "metadata": {},
   "outputs": [
    {
     "data": {
      "text/plain": [
       "{'optimizer': {'module': 'keras.optimizers',\n",
       "  'class_name': 'Adam',\n",
       "  'config': {'name': 'Adam',\n",
       "   'weight_decay': None,\n",
       "   'clipnorm': None,\n",
       "   'global_clipnorm': None,\n",
       "   'clipvalue': None,\n",
       "   'use_ema': False,\n",
       "   'ema_momentum': 0.99,\n",
       "   'ema_overwrite_frequency': None,\n",
       "   'jit_compile': False,\n",
       "   'is_legacy_optimizer': False,\n",
       "   'learning_rate': 0.0010000000474974513,\n",
       "   'beta_1': 0.9,\n",
       "   'beta_2': 0.999,\n",
       "   'epsilon': 1e-07,\n",
       "   'amsgrad': False},\n",
       "  'registered_name': None},\n",
       " 'loss': {'module': 'keras.losses',\n",
       "  'class_name': 'SparseCategoricalCrossentropy',\n",
       "  'config': {'reduction': 'auto',\n",
       "   'name': 'sparse_categorical_crossentropy',\n",
       "   'from_logits': True,\n",
       "   'ignore_class': None},\n",
       "  'registered_name': None},\n",
       " 'metrics': None,\n",
       " 'loss_weights': None,\n",
       " 'weighted_metrics': None,\n",
       " 'run_eagerly': None,\n",
       " 'steps_per_execution': None,\n",
       " 'jit_compile': None}"
      ]
     },
     "execution_count": 38,
     "metadata": {},
     "output_type": "execute_result"
    }
   ],
   "source": [
    "comp_conf3 = model3.get_compile_config()\n",
    "comp_conf3"
   ]
  },
  {
   "attachments": {},
   "cell_type": "markdown",
   "metadata": {},
   "source": [
    "Getting optimizer's config from model's compile config"
   ]
  },
  {
   "cell_type": "code",
   "execution_count": 42,
   "metadata": {},
   "outputs": [
    {
     "data": {
      "text/plain": [
       "{'module': 'keras.optimizers',\n",
       " 'class_name': 'Adam',\n",
       " 'config': {'name': 'Adam',\n",
       "  'weight_decay': None,\n",
       "  'clipnorm': None,\n",
       "  'global_clipnorm': None,\n",
       "  'clipvalue': None,\n",
       "  'use_ema': False,\n",
       "  'ema_momentum': 0.99,\n",
       "  'ema_overwrite_frequency': None,\n",
       "  'jit_compile': False,\n",
       "  'is_legacy_optimizer': False,\n",
       "  'learning_rate': 0.0010000000474974513,\n",
       "  'beta_1': 0.9,\n",
       "  'beta_2': 0.999,\n",
       "  'epsilon': 1e-07,\n",
       "  'amsgrad': False},\n",
       " 'registered_name': None}"
      ]
     },
     "execution_count": 42,
     "metadata": {},
     "output_type": "execute_result"
    }
   ],
   "source": [
    "comp_conf3['optimizer']"
   ]
  },
  {
   "cell_type": "code",
   "execution_count": 39,
   "metadata": {},
   "outputs": [
    {
     "data": {
      "text/plain": [
       "{'name': 'sequential_2', 'layers': []}"
      ]
     },
     "execution_count": 39,
     "metadata": {},
     "output_type": "execute_result"
    }
   ],
   "source": [
    "model3.get_config()"
   ]
  },
  {
   "attachments": {},
   "cell_type": "markdown",
   "metadata": {},
   "source": [
    "To instanciate a new model from the config of an existing one, we need to apply `.from_config` to the model class we want to create"
   ]
  },
  {
   "cell_type": "code",
   "execution_count": 40,
   "metadata": {},
   "outputs": [],
   "source": [
    "model4= tf.keras.Sequential().from_config(model.get_config())"
   ]
  },
  {
   "cell_type": "code",
   "execution_count": 41,
   "metadata": {},
   "outputs": [
    {
     "data": {
      "text/plain": [
       "{'name': 'sequential',\n",
       " 'layers': [{'class_name': 'InputLayer',\n",
       "   'config': {'batch_input_shape': (None, 1),\n",
       "    'dtype': 'float32',\n",
       "    'sparse': False,\n",
       "    'ragged': False,\n",
       "    'name': 'dense_input'}},\n",
       "  {'class_name': 'Dense',\n",
       "   'config': {'name': 'dense',\n",
       "    'trainable': True,\n",
       "    'dtype': 'float32',\n",
       "    'batch_input_shape': (None, 1),\n",
       "    'units': 10,\n",
       "    'activation': 'linear',\n",
       "    'use_bias': True,\n",
       "    'kernel_initializer': {'class_name': 'GlorotUniform',\n",
       "     'config': {'seed': None}},\n",
       "    'bias_initializer': {'class_name': 'Zeros', 'config': {}},\n",
       "    'kernel_regularizer': None,\n",
       "    'bias_regularizer': None,\n",
       "    'activity_regularizer': None,\n",
       "    'kernel_constraint': None,\n",
       "    'bias_constraint': None}},\n",
       "  {'class_name': 'Dense',\n",
       "   'config': {'name': 'dense_1',\n",
       "    'trainable': True,\n",
       "    'dtype': 'float32',\n",
       "    'units': 10,\n",
       "    'activation': 'linear',\n",
       "    'use_bias': True,\n",
       "    'kernel_initializer': {'class_name': 'GlorotUniform',\n",
       "     'config': {'seed': None}},\n",
       "    'bias_initializer': {'class_name': 'Zeros', 'config': {}},\n",
       "    'kernel_regularizer': None,\n",
       "    'bias_regularizer': None,\n",
       "    'activity_regularizer': None,\n",
       "    'kernel_constraint': None,\n",
       "    'bias_constraint': None}}]}"
      ]
     },
     "execution_count": 41,
     "metadata": {},
     "output_type": "execute_result"
    }
   ],
   "source": [
    "model4.get_config()"
   ]
  },
  {
   "attachments": {},
   "cell_type": "markdown",
   "metadata": {},
   "source": [
    "Because we can easily get the optimizer's config with the model's compile config, we could focus on model."
   ]
  }
 ],
 "metadata": {
  "kernelspec": {
   "display_name": "base",
   "language": "python",
   "name": "python3"
  },
  "language_info": {
   "codemirror_mode": {
    "name": "ipython",
    "version": 3
   },
   "file_extension": ".py",
   "mimetype": "text/x-python",
   "name": "python",
   "nbconvert_exporter": "python",
   "pygments_lexer": "ipython3",
   "version": "3.9.16"
  },
  "orig_nbformat": 4
 },
 "nbformat": 4,
 "nbformat_minor": 2
}
