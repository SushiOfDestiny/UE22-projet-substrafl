{
 "cells": [
  {
   "attachments": {},
   "cell_type": "markdown",
   "metadata": {},
   "source": [
    "# Importing libraries"
   ]
  },
  {
   "cell_type": "code",
   "execution_count": 1,
   "metadata": {},
   "outputs": [],
   "source": [
    "from typing import List\n",
    "import tensorflow as tf\n",
    "import numpy as np\n",
    "from tensorflow.keras import datasets, layers, models\n",
    "\n",
    "import weight_manager\n",
    "\n",
    "import cloudpickle\n",
    "\n",
    "import pathlib\n",
    "# https://www.geeksforgeeks.org/ordereddict-in-python/"
   ]
  },
  {
   "attachments": {},
   "cell_type": "markdown",
   "metadata": {},
   "source": [
    "# Creating model "
   ]
  },
  {
   "cell_type": "code",
   "execution_count": 2,
   "metadata": {},
   "outputs": [],
   "source": [
    "# simple model creation\n",
    "\n",
    "model = tf.keras.Sequential()\n",
    "model.add(layers.Dense(units=10, input_shape=(1,)))\n",
    "model.add(layers.Dense(units=10))\n",
    "# model.add(layers.Conv2D(32, (3, 3), activation='relu', input_shape=(32,32,3)))\n",
    "# model.add(layers.MaxPooling2D((2, 2)))\n",
    "# model.add(layers.Conv2D(64, (3, 3), activation='relu'))\n",
    "# model.add(layers.MaxPooling2D((2, 2)))\n",
    "# model.add(layers.Conv2D(64, (3, 3), activation='relu'))\n",
    "\n",
    "optimizer = tf.keras.optimizers.Adam(learning_rate=0.001)\n",
    "loss= tf.keras.losses.SparseCategoricalCrossentropy(from_logits=True)\n"
   ]
  },
  {
   "attachments": {},
   "cell_type": "markdown",
   "metadata": {},
   "source": [
    "## Testing layers methods"
   ]
  },
  {
   "cell_type": "code",
   "execution_count": 3,
   "metadata": {},
   "outputs": [
    {
     "data": {
      "text/plain": [
       "('dense', 'dense_1')"
      ]
     },
     "execution_count": 3,
     "metadata": {},
     "output_type": "execute_result"
    }
   ],
   "source": [
    "# automatic name creation\n",
    "model.layers[0].name,model.layers[1].name"
   ]
  },
  {
   "cell_type": "code",
   "execution_count": 4,
   "metadata": {},
   "outputs": [
    {
     "data": {
      "text/plain": [
       "[array([[ 0.568031  , -0.48442164,  0.2718088 , -0.11627907, -0.6603033 ,\n",
       "          0.06481224, -0.09219819, -0.46340498, -0.09349555, -0.25750738]],\n",
       "       dtype=float32),\n",
       " array([0., 0., 0., 0., 0., 0., 0., 0., 0., 0.], dtype=float32)]"
      ]
     },
     "execution_count": 4,
     "metadata": {},
     "output_type": "execute_result"
    }
   ],
   "source": [
    "model.layers[0].get_weights() # gives (weights, bias)"
   ]
  },
  {
   "cell_type": "code",
   "execution_count": 5,
   "metadata": {},
   "outputs": [
    {
     "data": {
      "text/plain": [
       "'4'"
      ]
     },
     "execution_count": 5,
     "metadata": {},
     "output_type": "execute_result"
    }
   ],
   "source": [
    "f'{2+2}'"
   ]
  },
  {
   "cell_type": "code",
   "execution_count": 6,
   "metadata": {},
   "outputs": [
    {
     "data": {
      "text/plain": [
       "OrderedDict([('config',\n",
       "              {'name': 'sequential',\n",
       "               'layers': [{'class_name': 'InputLayer',\n",
       "                 'config': {'batch_input_shape': (None, 1),\n",
       "                  'dtype': 'float32',\n",
       "                  'sparse': False,\n",
       "                  'ragged': False,\n",
       "                  'name': 'dense_input'}},\n",
       "                {'class_name': 'Dense',\n",
       "                 'config': {'name': 'dense',\n",
       "                  'trainable': True,\n",
       "                  'dtype': 'float32',\n",
       "                  'batch_input_shape': (None, 1),\n",
       "                  'units': 10,\n",
       "                  'activation': 'linear',\n",
       "                  'use_bias': True,\n",
       "                  'kernel_initializer': {'class_name': 'GlorotUniform',\n",
       "                   'config': {'seed': None}},\n",
       "                  'bias_initializer': {'class_name': 'Zeros', 'config': {}},\n",
       "                  'kernel_regularizer': None,\n",
       "                  'bias_regularizer': None,\n",
       "                  'activity_regularizer': None,\n",
       "                  'kernel_constraint': None,\n",
       "                  'bias_constraint': None}},\n",
       "                {'class_name': 'Dense',\n",
       "                 'config': {'name': 'dense_1',\n",
       "                  'trainable': True,\n",
       "                  'dtype': 'float32',\n",
       "                  'units': 10,\n",
       "                  'activation': 'linear',\n",
       "                  'use_bias': True,\n",
       "                  'kernel_initializer': {'class_name': 'GlorotUniform',\n",
       "                   'config': {'seed': None}},\n",
       "                  'bias_initializer': {'class_name': 'Zeros', 'config': {}},\n",
       "                  'kernel_regularizer': None,\n",
       "                  'bias_regularizer': None,\n",
       "                  'activity_regularizer': None,\n",
       "                  'kernel_constraint': None,\n",
       "                  'bias_constraint': None}}]}),\n",
       "             ('weights',\n",
       "              [array([[ 0.568031  , -0.48442164,  0.2718088 , -0.11627907, -0.6603033 ,\n",
       "                        0.06481224, -0.09219819, -0.46340498, -0.09349555, -0.25750738]],\n",
       "                     dtype=float32),\n",
       "               array([0., 0., 0., 0., 0., 0., 0., 0., 0., 0.], dtype=float32),\n",
       "               array([[-2.5710434e-01, -5.2817756e-01, -4.8678207e-01,  1.4984560e-01,\n",
       "                       -1.1217326e-01,  3.3078176e-01,  2.1074480e-01, -5.3007019e-01,\n",
       "                       -3.8125664e-01, -2.6968446e-01],\n",
       "                      [-4.2986512e-01, -5.4725575e-01,  8.0295205e-03, -1.8907857e-01,\n",
       "                       -2.0286754e-01,  2.0328492e-01,  2.5763780e-01,  1.9300717e-01,\n",
       "                        4.1100842e-01, -2.1937782e-01],\n",
       "                      [-3.5328734e-01, -3.2448280e-01,  3.9162552e-01, -1.4200982e-01,\n",
       "                       -2.8680119e-01,  4.8261404e-02,  5.3295887e-01,  4.6619356e-02,\n",
       "                       -4.3212533e-01,  4.8965883e-01],\n",
       "                      [ 4.6346104e-01,  3.1944096e-02,  2.5486267e-01, -6.7811221e-02,\n",
       "                       -2.9579329e-01,  1.7404604e-01,  2.7579010e-02,  4.5778394e-01,\n",
       "                       -5.4558027e-01,  1.6901869e-01],\n",
       "                      [-2.5581440e-01,  1.5085936e-01,  2.9475945e-01, -4.8928818e-01,\n",
       "                       -4.7216102e-01, -3.9881468e-04, -2.6956210e-01,  2.9530829e-01,\n",
       "                        6.3512921e-02,  2.3831582e-01],\n",
       "                      [ 3.8814706e-01, -5.1743233e-01, -2.6124015e-01, -3.2132739e-01,\n",
       "                        1.6390198e-01, -2.1030435e-01,  4.7697783e-01,  6.5039635e-02,\n",
       "                       -1.2927589e-01,  1.3675934e-01],\n",
       "                      [ 1.0901737e-01,  5.0843740e-01,  5.1387453e-01,  1.6581064e-01,\n",
       "                       -1.6686764e-01,  1.8954331e-01,  3.2674074e-02,  2.4709582e-02,\n",
       "                       -4.9744427e-01, -8.1481218e-02],\n",
       "                      [ 4.5324659e-01,  4.6638441e-01, -1.3016415e-01, -9.1522187e-02,\n",
       "                       -1.4651626e-01,  4.7931015e-01, -1.9046149e-01,  4.5845962e-01,\n",
       "                        2.8315443e-01, -1.5969643e-01],\n",
       "                      [ 2.5466621e-02, -3.8336208e-01, -3.9552653e-01, -4.7189736e-01,\n",
       "                        4.8980117e-01,  2.3364162e-01,  5.7054639e-02, -5.0553596e-01,\n",
       "                        2.3132461e-01, -2.1929371e-01],\n",
       "                      [ 3.4646857e-01,  2.4701506e-01, -5.6876212e-02, -2.6377252e-01,\n",
       "                       -7.9658598e-02,  2.7912617e-02,  4.1610265e-01,  4.3649071e-01,\n",
       "                       -1.5409738e-01, -4.2626917e-02]], dtype=float32),\n",
       "               array([0., 0., 0., 0., 0., 0., 0., 0., 0., 0.], dtype=float32)])])"
      ]
     },
     "execution_count": 6,
     "metadata": {},
     "output_type": "execute_result"
    }
   ],
   "source": [
    "weight_manager.model_state_dict(model)"
   ]
  },
  {
   "cell_type": "code",
   "execution_count": 7,
   "metadata": {},
   "outputs": [
    {
     "data": {
      "text/plain": [
       "{'name': 'Adam',\n",
       " 'weight_decay': None,\n",
       " 'clipnorm': None,\n",
       " 'global_clipnorm': None,\n",
       " 'clipvalue': None,\n",
       " 'use_ema': False,\n",
       " 'ema_momentum': 0.99,\n",
       " 'ema_overwrite_frequency': None,\n",
       " 'jit_compile': False,\n",
       " 'is_legacy_optimizer': False,\n",
       " 'learning_rate': 0.001,\n",
       " 'beta_1': 0.9,\n",
       " 'beta_2': 0.999,\n",
       " 'epsilon': 1e-07,\n",
       " 'amsgrad': False}"
      ]
     },
     "execution_count": 7,
     "metadata": {},
     "output_type": "execute_result"
    }
   ],
   "source": [
    "optimizer.get_config() # OK, et 'state ?'"
   ]
  },
  {
   "cell_type": "code",
   "execution_count": 8,
   "metadata": {},
   "outputs": [
    {
     "data": {
      "text/plain": [
       "{'name': 'sequential',\n",
       " 'layers': [{'class_name': 'InputLayer',\n",
       "   'config': {'batch_input_shape': (None, 1),\n",
       "    'dtype': 'float32',\n",
       "    'sparse': False,\n",
       "    'ragged': False,\n",
       "    'name': 'dense_input'}},\n",
       "  {'class_name': 'Dense',\n",
       "   'config': {'name': 'dense',\n",
       "    'trainable': True,\n",
       "    'dtype': 'float32',\n",
       "    'batch_input_shape': (None, 1),\n",
       "    'units': 10,\n",
       "    'activation': 'linear',\n",
       "    'use_bias': True,\n",
       "    'kernel_initializer': {'class_name': 'GlorotUniform',\n",
       "     'config': {'seed': None}},\n",
       "    'bias_initializer': {'class_name': 'Zeros', 'config': {}},\n",
       "    'kernel_regularizer': None,\n",
       "    'bias_regularizer': None,\n",
       "    'activity_regularizer': None,\n",
       "    'kernel_constraint': None,\n",
       "    'bias_constraint': None}},\n",
       "  {'class_name': 'Dense',\n",
       "   'config': {'name': 'dense_1',\n",
       "    'trainable': True,\n",
       "    'dtype': 'float32',\n",
       "    'units': 10,\n",
       "    'activation': 'linear',\n",
       "    'use_bias': True,\n",
       "    'kernel_initializer': {'class_name': 'GlorotUniform',\n",
       "     'config': {'seed': None}},\n",
       "    'bias_initializer': {'class_name': 'Zeros', 'config': {}},\n",
       "    'kernel_regularizer': None,\n",
       "    'bias_regularizer': None,\n",
       "    'activity_regularizer': None,\n",
       "    'kernel_constraint': None,\n",
       "    'bias_constraint': None}}]}"
      ]
     },
     "execution_count": 8,
     "metadata": {},
     "output_type": "execute_result"
    }
   ],
   "source": [
    "model.get_config()"
   ]
  },
  {
   "cell_type": "code",
   "execution_count": 9,
   "metadata": {},
   "outputs": [
    {
     "data": {
      "text/plain": [
       "[array([[ 0.568031  , -0.48442164,  0.2718088 , -0.11627907, -0.6603033 ,\n",
       "          0.06481224, -0.09219819, -0.46340498, -0.09349555, -0.25750738]],\n",
       "       dtype=float32),\n",
       " array([0., 0., 0., 0., 0., 0., 0., 0., 0., 0.], dtype=float32),\n",
       " array([[-2.5710434e-01, -5.2817756e-01, -4.8678207e-01,  1.4984560e-01,\n",
       "         -1.1217326e-01,  3.3078176e-01,  2.1074480e-01, -5.3007019e-01,\n",
       "         -3.8125664e-01, -2.6968446e-01],\n",
       "        [-4.2986512e-01, -5.4725575e-01,  8.0295205e-03, -1.8907857e-01,\n",
       "         -2.0286754e-01,  2.0328492e-01,  2.5763780e-01,  1.9300717e-01,\n",
       "          4.1100842e-01, -2.1937782e-01],\n",
       "        [-3.5328734e-01, -3.2448280e-01,  3.9162552e-01, -1.4200982e-01,\n",
       "         -2.8680119e-01,  4.8261404e-02,  5.3295887e-01,  4.6619356e-02,\n",
       "         -4.3212533e-01,  4.8965883e-01],\n",
       "        [ 4.6346104e-01,  3.1944096e-02,  2.5486267e-01, -6.7811221e-02,\n",
       "         -2.9579329e-01,  1.7404604e-01,  2.7579010e-02,  4.5778394e-01,\n",
       "         -5.4558027e-01,  1.6901869e-01],\n",
       "        [-2.5581440e-01,  1.5085936e-01,  2.9475945e-01, -4.8928818e-01,\n",
       "         -4.7216102e-01, -3.9881468e-04, -2.6956210e-01,  2.9530829e-01,\n",
       "          6.3512921e-02,  2.3831582e-01],\n",
       "        [ 3.8814706e-01, -5.1743233e-01, -2.6124015e-01, -3.2132739e-01,\n",
       "          1.6390198e-01, -2.1030435e-01,  4.7697783e-01,  6.5039635e-02,\n",
       "         -1.2927589e-01,  1.3675934e-01],\n",
       "        [ 1.0901737e-01,  5.0843740e-01,  5.1387453e-01,  1.6581064e-01,\n",
       "         -1.6686764e-01,  1.8954331e-01,  3.2674074e-02,  2.4709582e-02,\n",
       "         -4.9744427e-01, -8.1481218e-02],\n",
       "        [ 4.5324659e-01,  4.6638441e-01, -1.3016415e-01, -9.1522187e-02,\n",
       "         -1.4651626e-01,  4.7931015e-01, -1.9046149e-01,  4.5845962e-01,\n",
       "          2.8315443e-01, -1.5969643e-01],\n",
       "        [ 2.5466621e-02, -3.8336208e-01, -3.9552653e-01, -4.7189736e-01,\n",
       "          4.8980117e-01,  2.3364162e-01,  5.7054639e-02, -5.0553596e-01,\n",
       "          2.3132461e-01, -2.1929371e-01],\n",
       "        [ 3.4646857e-01,  2.4701506e-01, -5.6876212e-02, -2.6377252e-01,\n",
       "         -7.9658598e-02,  2.7912617e-02,  4.1610265e-01,  4.3649071e-01,\n",
       "         -1.5409738e-01, -4.2626917e-02]], dtype=float32),\n",
       " array([0., 0., 0., 0., 0., 0., 0., 0., 0., 0.], dtype=float32)]"
      ]
     },
     "execution_count": 9,
     "metadata": {},
     "output_type": "execute_result"
    }
   ],
   "source": [
    "model.get_weights() #list"
   ]
  },
  {
   "attachments": {},
   "cell_type": "markdown",
   "metadata": {},
   "source": [
    "# Testing serialization of tf objects"
   ]
  },
  {
   "cell_type": "code",
   "execution_count": 10,
   "metadata": {},
   "outputs": [],
   "source": [
    "checkpoint = {\n",
    "    \"model_state_dict\" : weight_manager.model_state_dict(model),\n",
    "    \"optimizer_state_dict\" : optimizer.get_config()\n",
    "}"
   ]
  },
  {
   "cell_type": "code",
   "execution_count": 11,
   "metadata": {},
   "outputs": [],
   "source": [
    "with open(pathlib.Path.cwd() / \"test_serialization\", \"wb\") as f:\n",
    "    cloudpickle.dump(checkpoint, f)"
   ]
  },
  {
   "cell_type": "code",
   "execution_count": 12,
   "metadata": {},
   "outputs": [],
   "source": [
    "with open(pathlib.Path.cwd() / \"test_serialization\", \"rb\") as f:\n",
    "        checkpoint = cloudpickle.load(f)"
   ]
  },
  {
   "cell_type": "code",
   "execution_count": 13,
   "metadata": {},
   "outputs": [
    {
     "data": {
      "text/plain": [
       "{'model_state_dict': OrderedDict([('config',\n",
       "               {'name': 'sequential',\n",
       "                'layers': [{'class_name': 'InputLayer',\n",
       "                  'config': {'batch_input_shape': (None, 1),\n",
       "                   'dtype': 'float32',\n",
       "                   'sparse': False,\n",
       "                   'ragged': False,\n",
       "                   'name': 'dense_input'}},\n",
       "                 {'class_name': 'Dense',\n",
       "                  'config': {'name': 'dense',\n",
       "                   'trainable': True,\n",
       "                   'dtype': 'float32',\n",
       "                   'batch_input_shape': (None, 1),\n",
       "                   'units': 10,\n",
       "                   'activation': 'linear',\n",
       "                   'use_bias': True,\n",
       "                   'kernel_initializer': {'class_name': 'GlorotUniform',\n",
       "                    'config': {'seed': None}},\n",
       "                   'bias_initializer': {'class_name': 'Zeros', 'config': {}},\n",
       "                   'kernel_regularizer': None,\n",
       "                   'bias_regularizer': None,\n",
       "                   'activity_regularizer': None,\n",
       "                   'kernel_constraint': None,\n",
       "                   'bias_constraint': None}},\n",
       "                 {'class_name': 'Dense',\n",
       "                  'config': {'name': 'dense_1',\n",
       "                   'trainable': True,\n",
       "                   'dtype': 'float32',\n",
       "                   'units': 10,\n",
       "                   'activation': 'linear',\n",
       "                   'use_bias': True,\n",
       "                   'kernel_initializer': {'class_name': 'GlorotUniform',\n",
       "                    'config': {'seed': None}},\n",
       "                   'bias_initializer': {'class_name': 'Zeros', 'config': {}},\n",
       "                   'kernel_regularizer': None,\n",
       "                   'bias_regularizer': None,\n",
       "                   'activity_regularizer': None,\n",
       "                   'kernel_constraint': None,\n",
       "                   'bias_constraint': None}}]}),\n",
       "              ('weights',\n",
       "               [array([[ 0.568031  , -0.48442164,  0.2718088 , -0.11627907, -0.6603033 ,\n",
       "                         0.06481224, -0.09219819, -0.46340498, -0.09349555, -0.25750738]],\n",
       "                      dtype=float32),\n",
       "                array([0., 0., 0., 0., 0., 0., 0., 0., 0., 0.], dtype=float32),\n",
       "                array([[-2.5710434e-01, -5.2817756e-01, -4.8678207e-01,  1.4984560e-01,\n",
       "                        -1.1217326e-01,  3.3078176e-01,  2.1074480e-01, -5.3007019e-01,\n",
       "                        -3.8125664e-01, -2.6968446e-01],\n",
       "                       [-4.2986512e-01, -5.4725575e-01,  8.0295205e-03, -1.8907857e-01,\n",
       "                        -2.0286754e-01,  2.0328492e-01,  2.5763780e-01,  1.9300717e-01,\n",
       "                         4.1100842e-01, -2.1937782e-01],\n",
       "                       [-3.5328734e-01, -3.2448280e-01,  3.9162552e-01, -1.4200982e-01,\n",
       "                        -2.8680119e-01,  4.8261404e-02,  5.3295887e-01,  4.6619356e-02,\n",
       "                        -4.3212533e-01,  4.8965883e-01],\n",
       "                       [ 4.6346104e-01,  3.1944096e-02,  2.5486267e-01, -6.7811221e-02,\n",
       "                        -2.9579329e-01,  1.7404604e-01,  2.7579010e-02,  4.5778394e-01,\n",
       "                        -5.4558027e-01,  1.6901869e-01],\n",
       "                       [-2.5581440e-01,  1.5085936e-01,  2.9475945e-01, -4.8928818e-01,\n",
       "                        -4.7216102e-01, -3.9881468e-04, -2.6956210e-01,  2.9530829e-01,\n",
       "                         6.3512921e-02,  2.3831582e-01],\n",
       "                       [ 3.8814706e-01, -5.1743233e-01, -2.6124015e-01, -3.2132739e-01,\n",
       "                         1.6390198e-01, -2.1030435e-01,  4.7697783e-01,  6.5039635e-02,\n",
       "                        -1.2927589e-01,  1.3675934e-01],\n",
       "                       [ 1.0901737e-01,  5.0843740e-01,  5.1387453e-01,  1.6581064e-01,\n",
       "                        -1.6686764e-01,  1.8954331e-01,  3.2674074e-02,  2.4709582e-02,\n",
       "                        -4.9744427e-01, -8.1481218e-02],\n",
       "                       [ 4.5324659e-01,  4.6638441e-01, -1.3016415e-01, -9.1522187e-02,\n",
       "                        -1.4651626e-01,  4.7931015e-01, -1.9046149e-01,  4.5845962e-01,\n",
       "                         2.8315443e-01, -1.5969643e-01],\n",
       "                       [ 2.5466621e-02, -3.8336208e-01, -3.9552653e-01, -4.7189736e-01,\n",
       "                         4.8980117e-01,  2.3364162e-01,  5.7054639e-02, -5.0553596e-01,\n",
       "                         2.3132461e-01, -2.1929371e-01],\n",
       "                       [ 3.4646857e-01,  2.4701506e-01, -5.6876212e-02, -2.6377252e-01,\n",
       "                        -7.9658598e-02,  2.7912617e-02,  4.1610265e-01,  4.3649071e-01,\n",
       "                        -1.5409738e-01, -4.2626917e-02]], dtype=float32),\n",
       "                array([0., 0., 0., 0., 0., 0., 0., 0., 0., 0.], dtype=float32)])]),\n",
       " 'optimizer_state_dict': {'name': 'Adam',\n",
       "  'weight_decay': None,\n",
       "  'clipnorm': None,\n",
       "  'global_clipnorm': None,\n",
       "  'clipvalue': None,\n",
       "  'use_ema': False,\n",
       "  'ema_momentum': 0.99,\n",
       "  'ema_overwrite_frequency': None,\n",
       "  'jit_compile': False,\n",
       "  'is_legacy_optimizer': False,\n",
       "  'learning_rate': 0.001,\n",
       "  'beta_1': 0.9,\n",
       "  'beta_2': 0.999,\n",
       "  'epsilon': 1e-07,\n",
       "  'amsgrad': False}}"
      ]
     },
     "execution_count": 13,
     "metadata": {},
     "output_type": "execute_result"
    }
   ],
   "source": [
    "checkpoint"
   ]
  },
  {
   "cell_type": "code",
   "execution_count": 14,
   "metadata": {},
   "outputs": [],
   "source": [
    "optimizer_s = tf.keras.optimizers.serialize(optimizer)"
   ]
  },
  {
   "cell_type": "code",
   "execution_count": 15,
   "metadata": {},
   "outputs": [
    {
     "data": {
      "text/plain": [
       "(dict, dict)"
      ]
     },
     "execution_count": 15,
     "metadata": {},
     "output_type": "execute_result"
    }
   ],
   "source": [
    "type(optimizer.get_config()), type(optimizer_s)"
   ]
  },
  {
   "cell_type": "code",
   "execution_count": 16,
   "metadata": {},
   "outputs": [
    {
     "data": {
      "text/plain": [
       "({'name': 'Adam',\n",
       "  'weight_decay': None,\n",
       "  'clipnorm': None,\n",
       "  'global_clipnorm': None,\n",
       "  'clipvalue': None,\n",
       "  'use_ema': False,\n",
       "  'ema_momentum': 0.99,\n",
       "  'ema_overwrite_frequency': None,\n",
       "  'jit_compile': False,\n",
       "  'is_legacy_optimizer': False,\n",
       "  'learning_rate': 0.001,\n",
       "  'beta_1': 0.9,\n",
       "  'beta_2': 0.999,\n",
       "  'epsilon': 1e-07,\n",
       "  'amsgrad': False},\n",
       " {'class_name': 'Custom>Adam',\n",
       "  'config': {'name': 'Adam',\n",
       "   'weight_decay': None,\n",
       "   'clipnorm': None,\n",
       "   'global_clipnorm': None,\n",
       "   'clipvalue': None,\n",
       "   'use_ema': False,\n",
       "   'ema_momentum': 0.99,\n",
       "   'ema_overwrite_frequency': None,\n",
       "   'jit_compile': False,\n",
       "   'is_legacy_optimizer': False,\n",
       "   'learning_rate': 0.001,\n",
       "   'beta_1': 0.9,\n",
       "   'beta_2': 0.999,\n",
       "   'epsilon': 1e-07,\n",
       "   'amsgrad': False}})"
      ]
     },
     "execution_count": 16,
     "metadata": {},
     "output_type": "execute_result"
    }
   ],
   "source": [
    "optimizer.get_config(), optimizer_s"
   ]
  },
  {
   "cell_type": "code",
   "execution_count": 17,
   "metadata": {},
   "outputs": [
    {
     "data": {
      "text/plain": [
       "<function keras.optimizers.serialize(optimizer, use_legacy_format=False)>"
      ]
     },
     "execution_count": 17,
     "metadata": {},
     "output_type": "execute_result"
    }
   ],
   "source": [
    "tf.keras.optimizers.serialize"
   ]
  },
  {
   "cell_type": "code",
   "execution_count": 18,
   "metadata": {},
   "outputs": [],
   "source": [
    "model_s_d= tf.keras.layers.serialize(model)"
   ]
  },
  {
   "cell_type": "code",
   "execution_count": 19,
   "metadata": {},
   "outputs": [
    {
     "data": {
      "text/plain": [
       "{'class_name': 'Sequential',\n",
       " 'config': {'name': 'sequential',\n",
       "  'layers': [{'class_name': 'InputLayer',\n",
       "    'config': {'batch_input_shape': (None, 1),\n",
       "     'dtype': 'float32',\n",
       "     'sparse': False,\n",
       "     'ragged': False,\n",
       "     'name': 'dense_input'}},\n",
       "   {'class_name': 'Dense',\n",
       "    'config': {'name': 'dense',\n",
       "     'trainable': True,\n",
       "     'dtype': 'float32',\n",
       "     'batch_input_shape': (None, 1),\n",
       "     'units': 10,\n",
       "     'activation': 'linear',\n",
       "     'use_bias': True,\n",
       "     'kernel_initializer': {'class_name': 'GlorotUniform',\n",
       "      'config': {'seed': None}},\n",
       "     'bias_initializer': {'class_name': 'Zeros', 'config': {}},\n",
       "     'kernel_regularizer': None,\n",
       "     'bias_regularizer': None,\n",
       "     'activity_regularizer': None,\n",
       "     'kernel_constraint': None,\n",
       "     'bias_constraint': None}},\n",
       "   {'class_name': 'Dense',\n",
       "    'config': {'name': 'dense_1',\n",
       "     'trainable': True,\n",
       "     'dtype': 'float32',\n",
       "     'units': 10,\n",
       "     'activation': 'linear',\n",
       "     'use_bias': True,\n",
       "     'kernel_initializer': {'class_name': 'GlorotUniform',\n",
       "      'config': {'seed': None}},\n",
       "     'bias_initializer': {'class_name': 'Zeros', 'config': {}},\n",
       "     'kernel_regularizer': None,\n",
       "     'bias_regularizer': None,\n",
       "     'activity_regularizer': None,\n",
       "     'kernel_constraint': None,\n",
       "     'bias_constraint': None}}]}}"
      ]
     },
     "execution_count": 19,
     "metadata": {},
     "output_type": "execute_result"
    }
   ],
   "source": [
    "model_s_d"
   ]
  },
  {
   "cell_type": "code",
   "execution_count": 20,
   "metadata": {},
   "outputs": [
    {
     "data": {
      "text/plain": [
       "{'name': 'sequential',\n",
       " 'layers': [{'class_name': 'InputLayer',\n",
       "   'config': {'batch_input_shape': (None, 1),\n",
       "    'dtype': 'float32',\n",
       "    'sparse': False,\n",
       "    'ragged': False,\n",
       "    'name': 'dense_input'}},\n",
       "  {'class_name': 'Dense',\n",
       "   'config': {'name': 'dense',\n",
       "    'trainable': True,\n",
       "    'dtype': 'float32',\n",
       "    'batch_input_shape': (None, 1),\n",
       "    'units': 10,\n",
       "    'activation': 'linear',\n",
       "    'use_bias': True,\n",
       "    'kernel_initializer': {'class_name': 'GlorotUniform',\n",
       "     'config': {'seed': None}},\n",
       "    'bias_initializer': {'class_name': 'Zeros', 'config': {}},\n",
       "    'kernel_regularizer': None,\n",
       "    'bias_regularizer': None,\n",
       "    'activity_regularizer': None,\n",
       "    'kernel_constraint': None,\n",
       "    'bias_constraint': None}},\n",
       "  {'class_name': 'Dense',\n",
       "   'config': {'name': 'dense_1',\n",
       "    'trainable': True,\n",
       "    'dtype': 'float32',\n",
       "    'units': 10,\n",
       "    'activation': 'linear',\n",
       "    'use_bias': True,\n",
       "    'kernel_initializer': {'class_name': 'GlorotUniform',\n",
       "     'config': {'seed': None}},\n",
       "    'bias_initializer': {'class_name': 'Zeros', 'config': {}},\n",
       "    'kernel_regularizer': None,\n",
       "    'bias_regularizer': None,\n",
       "    'activity_regularizer': None,\n",
       "    'kernel_constraint': None,\n",
       "    'bias_constraint': None}}]}"
      ]
     },
     "execution_count": 20,
     "metadata": {},
     "output_type": "execute_result"
    }
   ],
   "source": [
    "model.get_config()"
   ]
  },
  {
   "attachments": {},
   "cell_type": "markdown",
   "metadata": {},
   "source": [
    "# Finding how to properly initialize models with config, weights, optimizer, loss, metrics"
   ]
  },
  {
   "attachments": {},
   "cell_type": "markdown",
   "metadata": {},
   "source": [
    "For a model:\n",
    "- *config* = its structure (layers' type and dimension)\n",
    "- *weights* = layers' weights\n",
    "- *compile config* = its optimizer, loss, metrics and other\n",
    "\n",
    "We want here to understand how to transfer those caracteristics between model, and how to save and load them."
   ]
  },
  {
   "attachments": {},
   "cell_type": "markdown",
   "metadata": {},
   "source": [
    "To get the config with which the model has been ***created***"
   ]
  },
  {
   "cell_type": "code",
   "execution_count": 21,
   "metadata": {},
   "outputs": [
    {
     "data": {
      "text/plain": [
       "{'name': 'sequential',\n",
       " 'layers': [{'class_name': 'InputLayer',\n",
       "   'config': {'batch_input_shape': (None, 1),\n",
       "    'dtype': 'float32',\n",
       "    'sparse': False,\n",
       "    'ragged': False,\n",
       "    'name': 'dense_input'}},\n",
       "  {'class_name': 'Dense',\n",
       "   'config': {'name': 'dense',\n",
       "    'trainable': True,\n",
       "    'dtype': 'float32',\n",
       "    'batch_input_shape': (None, 1),\n",
       "    'units': 10,\n",
       "    'activation': 'linear',\n",
       "    'use_bias': True,\n",
       "    'kernel_initializer': {'class_name': 'GlorotUniform',\n",
       "     'config': {'seed': None}},\n",
       "    'bias_initializer': {'class_name': 'Zeros', 'config': {}},\n",
       "    'kernel_regularizer': None,\n",
       "    'bias_regularizer': None,\n",
       "    'activity_regularizer': None,\n",
       "    'kernel_constraint': None,\n",
       "    'bias_constraint': None}},\n",
       "  {'class_name': 'Dense',\n",
       "   'config': {'name': 'dense_1',\n",
       "    'trainable': True,\n",
       "    'dtype': 'float32',\n",
       "    'units': 10,\n",
       "    'activation': 'linear',\n",
       "    'use_bias': True,\n",
       "    'kernel_initializer': {'class_name': 'GlorotUniform',\n",
       "     'config': {'seed': None}},\n",
       "    'bias_initializer': {'class_name': 'Zeros', 'config': {}},\n",
       "    'kernel_regularizer': None,\n",
       "    'bias_regularizer': None,\n",
       "    'activity_regularizer': None,\n",
       "    'kernel_constraint': None,\n",
       "    'bias_constraint': None}}]}"
      ]
     },
     "execution_count": 21,
     "metadata": {},
     "output_type": "execute_result"
    }
   ],
   "source": [
    "model.get_config()"
   ]
  },
  {
   "cell_type": "code",
   "execution_count": 22,
   "metadata": {},
   "outputs": [
    {
     "data": {
      "text/plain": [
       "[array([[ 0.568031  , -0.48442164,  0.2718088 , -0.11627907, -0.6603033 ,\n",
       "          0.06481224, -0.09219819, -0.46340498, -0.09349555, -0.25750738]],\n",
       "       dtype=float32),\n",
       " array([0., 0., 0., 0., 0., 0., 0., 0., 0., 0.], dtype=float32),\n",
       " array([[-2.5710434e-01, -5.2817756e-01, -4.8678207e-01,  1.4984560e-01,\n",
       "         -1.1217326e-01,  3.3078176e-01,  2.1074480e-01, -5.3007019e-01,\n",
       "         -3.8125664e-01, -2.6968446e-01],\n",
       "        [-4.2986512e-01, -5.4725575e-01,  8.0295205e-03, -1.8907857e-01,\n",
       "         -2.0286754e-01,  2.0328492e-01,  2.5763780e-01,  1.9300717e-01,\n",
       "          4.1100842e-01, -2.1937782e-01],\n",
       "        [-3.5328734e-01, -3.2448280e-01,  3.9162552e-01, -1.4200982e-01,\n",
       "         -2.8680119e-01,  4.8261404e-02,  5.3295887e-01,  4.6619356e-02,\n",
       "         -4.3212533e-01,  4.8965883e-01],\n",
       "        [ 4.6346104e-01,  3.1944096e-02,  2.5486267e-01, -6.7811221e-02,\n",
       "         -2.9579329e-01,  1.7404604e-01,  2.7579010e-02,  4.5778394e-01,\n",
       "         -5.4558027e-01,  1.6901869e-01],\n",
       "        [-2.5581440e-01,  1.5085936e-01,  2.9475945e-01, -4.8928818e-01,\n",
       "         -4.7216102e-01, -3.9881468e-04, -2.6956210e-01,  2.9530829e-01,\n",
       "          6.3512921e-02,  2.3831582e-01],\n",
       "        [ 3.8814706e-01, -5.1743233e-01, -2.6124015e-01, -3.2132739e-01,\n",
       "          1.6390198e-01, -2.1030435e-01,  4.7697783e-01,  6.5039635e-02,\n",
       "         -1.2927589e-01,  1.3675934e-01],\n",
       "        [ 1.0901737e-01,  5.0843740e-01,  5.1387453e-01,  1.6581064e-01,\n",
       "         -1.6686764e-01,  1.8954331e-01,  3.2674074e-02,  2.4709582e-02,\n",
       "         -4.9744427e-01, -8.1481218e-02],\n",
       "        [ 4.5324659e-01,  4.6638441e-01, -1.3016415e-01, -9.1522187e-02,\n",
       "         -1.4651626e-01,  4.7931015e-01, -1.9046149e-01,  4.5845962e-01,\n",
       "          2.8315443e-01, -1.5969643e-01],\n",
       "        [ 2.5466621e-02, -3.8336208e-01, -3.9552653e-01, -4.7189736e-01,\n",
       "          4.8980117e-01,  2.3364162e-01,  5.7054639e-02, -5.0553596e-01,\n",
       "          2.3132461e-01, -2.1929371e-01],\n",
       "        [ 3.4646857e-01,  2.4701506e-01, -5.6876212e-02, -2.6377252e-01,\n",
       "         -7.9658598e-02,  2.7912617e-02,  4.1610265e-01,  4.3649071e-01,\n",
       "         -1.5409738e-01, -4.2626917e-02]], dtype=float32),\n",
       " array([0., 0., 0., 0., 0., 0., 0., 0., 0., 0.], dtype=float32)]"
      ]
     },
     "execution_count": 22,
     "metadata": {},
     "output_type": "execute_result"
    }
   ],
   "source": [
    "model.get_weights()"
   ]
  },
  {
   "attachments": {},
   "cell_type": "markdown",
   "metadata": {},
   "source": [
    "To get the config with which the model has been ***compiled*** : "
   ]
  },
  {
   "cell_type": "code",
   "execution_count": 23,
   "metadata": {},
   "outputs": [
    {
     "data": {
      "text/plain": [
       "NoneType"
      ]
     },
     "execution_count": 23,
     "metadata": {},
     "output_type": "execute_result"
    }
   ],
   "source": [
    "type(model.get_compile_config())"
   ]
  },
  {
   "attachments": {},
   "cell_type": "markdown",
   "metadata": {},
   "source": [
    "it has not been compiled yet so it is normal\n",
    "if we compile it :"
   ]
  },
  {
   "cell_type": "code",
   "execution_count": 24,
   "metadata": {},
   "outputs": [],
   "source": [
    "model.compile(optimizer=optimizer, loss=loss)"
   ]
  },
  {
   "cell_type": "code",
   "execution_count": 25,
   "metadata": {},
   "outputs": [],
   "source": [
    "conf= model.get_compile_config()"
   ]
  },
  {
   "cell_type": "code",
   "execution_count": 26,
   "metadata": {},
   "outputs": [
    {
     "data": {
      "text/plain": [
       "{'optimizer': {'module': 'keras.optimizers',\n",
       "  'class_name': 'Adam',\n",
       "  'config': {'name': 'Adam',\n",
       "   'weight_decay': None,\n",
       "   'clipnorm': None,\n",
       "   'global_clipnorm': None,\n",
       "   'clipvalue': None,\n",
       "   'use_ema': False,\n",
       "   'ema_momentum': 0.99,\n",
       "   'ema_overwrite_frequency': None,\n",
       "   'jit_compile': False,\n",
       "   'is_legacy_optimizer': False,\n",
       "   'learning_rate': 0.0010000000474974513,\n",
       "   'beta_1': 0.9,\n",
       "   'beta_2': 0.999,\n",
       "   'epsilon': 1e-07,\n",
       "   'amsgrad': False},\n",
       "  'registered_name': None},\n",
       " 'loss': {'module': 'keras.losses',\n",
       "  'class_name': 'SparseCategoricalCrossentropy',\n",
       "  'config': {'reduction': 'auto',\n",
       "   'name': 'sparse_categorical_crossentropy',\n",
       "   'from_logits': True,\n",
       "   'ignore_class': None},\n",
       "  'registered_name': None},\n",
       " 'metrics': None,\n",
       " 'loss_weights': None,\n",
       " 'weighted_metrics': None,\n",
       " 'run_eagerly': None,\n",
       " 'steps_per_execution': None,\n",
       " 'jit_compile': None}"
      ]
     },
     "execution_count": 26,
     "metadata": {},
     "output_type": "execute_result"
    }
   ],
   "source": [
    "conf"
   ]
  },
  {
   "cell_type": "code",
   "execution_count": 27,
   "metadata": {},
   "outputs": [
    {
     "data": {
      "text/plain": [
       "dict_keys(['optimizer', 'loss', 'metrics', 'loss_weights', 'weighted_metrics', 'run_eagerly', 'steps_per_execution', 'jit_compile'])"
      ]
     },
     "execution_count": 27,
     "metadata": {},
     "output_type": "execute_result"
    }
   ],
   "source": [
    "conf.keys()"
   ]
  },
  {
   "cell_type": "code",
   "execution_count": 28,
   "metadata": {},
   "outputs": [],
   "source": [
    "conf['loss_weights']"
   ]
  },
  {
   "attachments": {},
   "cell_type": "markdown",
   "metadata": {},
   "source": [
    "Creating a new model"
   ]
  },
  {
   "cell_type": "code",
   "execution_count": 29,
   "metadata": {},
   "outputs": [],
   "source": [
    "model2 = tf.keras.Sequential()"
   ]
  },
  {
   "attachments": {},
   "cell_type": "markdown",
   "metadata": {},
   "source": [
    "Compiling it from model's config, we see the differences between configs"
   ]
  },
  {
   "cell_type": "code",
   "execution_count": 30,
   "metadata": {},
   "outputs": [],
   "source": [
    "model2.compile_from_config(conf)"
   ]
  },
  {
   "cell_type": "code",
   "execution_count": 31,
   "metadata": {},
   "outputs": [
    {
     "data": {
      "text/plain": [
       "{'name': 'sequential_1', 'layers': []}"
      ]
     },
     "execution_count": 31,
     "metadata": {},
     "output_type": "execute_result"
    }
   ],
   "source": [
    "model2.get_config()"
   ]
  },
  {
   "cell_type": "code",
   "execution_count": 32,
   "metadata": {},
   "outputs": [
    {
     "data": {
      "text/plain": [
       "{'optimizer': {'module': 'keras.optimizers',\n",
       "  'class_name': 'Adam',\n",
       "  'config': {'name': 'Adam',\n",
       "   'weight_decay': None,\n",
       "   'clipnorm': None,\n",
       "   'global_clipnorm': None,\n",
       "   'clipvalue': None,\n",
       "   'use_ema': False,\n",
       "   'ema_momentum': 0.99,\n",
       "   'ema_overwrite_frequency': None,\n",
       "   'jit_compile': False,\n",
       "   'is_legacy_optimizer': False,\n",
       "   'learning_rate': 0.0010000000474974513,\n",
       "   'beta_1': 0.9,\n",
       "   'beta_2': 0.999,\n",
       "   'epsilon': 1e-07,\n",
       "   'amsgrad': False},\n",
       "  'registered_name': None},\n",
       " 'loss': {'module': 'keras.losses',\n",
       "  'class_name': 'SparseCategoricalCrossentropy',\n",
       "  'config': {'reduction': 'auto',\n",
       "   'name': 'sparse_categorical_crossentropy',\n",
       "   'from_logits': True,\n",
       "   'ignore_class': None},\n",
       "  'registered_name': None},\n",
       " 'metrics': None,\n",
       " 'loss_weights': None,\n",
       " 'weighted_metrics': None,\n",
       " 'run_eagerly': None,\n",
       " 'steps_per_execution': None,\n",
       " 'jit_compile': None}"
      ]
     },
     "execution_count": 32,
     "metadata": {},
     "output_type": "execute_result"
    }
   ],
   "source": [
    "model2.get_compile_config()"
   ]
  },
  {
   "cell_type": "code",
   "execution_count": 33,
   "metadata": {},
   "outputs": [],
   "source": [
    "model3=tf.keras.Sequential()"
   ]
  },
  {
   "cell_type": "code",
   "execution_count": 34,
   "metadata": {},
   "outputs": [
    {
     "data": {
      "text/plain": [
       "<keras.engine.sequential.Sequential at 0x2766538ad60>"
      ]
     },
     "execution_count": 34,
     "metadata": {},
     "output_type": "execute_result"
    }
   ],
   "source": [
    "model3.from_config(model.get_config())"
   ]
  },
  {
   "cell_type": "code",
   "execution_count": 35,
   "metadata": {},
   "outputs": [
    {
     "data": {
      "text/plain": [
       "{'name': 'sequential_2', 'layers': []}"
      ]
     },
     "execution_count": 35,
     "metadata": {},
     "output_type": "execute_result"
    }
   ],
   "source": [
    "model3.get_config()"
   ]
  },
  {
   "cell_type": "code",
   "execution_count": 39,
   "metadata": {},
   "outputs": [],
   "source": [
    "model3.compile_from_config(model.get_compile_config())"
   ]
  },
  {
   "cell_type": "code",
   "execution_count": 40,
   "metadata": {},
   "outputs": [
    {
     "data": {
      "text/plain": [
       "{'optimizer': {'module': 'keras.optimizers',\n",
       "  'class_name': 'Adam',\n",
       "  'config': {'name': 'Adam',\n",
       "   'weight_decay': None,\n",
       "   'clipnorm': None,\n",
       "   'global_clipnorm': None,\n",
       "   'clipvalue': None,\n",
       "   'use_ema': False,\n",
       "   'ema_momentum': 0.99,\n",
       "   'ema_overwrite_frequency': None,\n",
       "   'jit_compile': False,\n",
       "   'is_legacy_optimizer': False,\n",
       "   'learning_rate': 0.0010000000474974513,\n",
       "   'beta_1': 0.9,\n",
       "   'beta_2': 0.999,\n",
       "   'epsilon': 1e-07,\n",
       "   'amsgrad': False},\n",
       "  'registered_name': None},\n",
       " 'loss': {'module': 'keras.losses',\n",
       "  'class_name': 'SparseCategoricalCrossentropy',\n",
       "  'config': {'reduction': 'auto',\n",
       "   'name': 'sparse_categorical_crossentropy',\n",
       "   'from_logits': True,\n",
       "   'ignore_class': None},\n",
       "  'registered_name': None},\n",
       " 'metrics': None,\n",
       " 'loss_weights': None,\n",
       " 'weighted_metrics': None,\n",
       " 'run_eagerly': None,\n",
       " 'steps_per_execution': None,\n",
       " 'jit_compile': None}"
      ]
     },
     "execution_count": 40,
     "metadata": {},
     "output_type": "execute_result"
    }
   ],
   "source": [
    "model3.get_compile_config()"
   ]
  },
  {
   "cell_type": "code",
   "execution_count": 41,
   "metadata": {},
   "outputs": [
    {
     "data": {
      "text/plain": [
       "{'name': 'sequential_2', 'layers': []}"
      ]
     },
     "execution_count": 41,
     "metadata": {},
     "output_type": "execute_result"
    }
   ],
   "source": [
    "model3.get_config()"
   ]
  },
  {
   "attachments": {},
   "cell_type": "markdown",
   "metadata": {},
   "source": [
    "To instanciate a new model from the config of an existing one, we need to apply `.from_config` to the model class we want to create"
   ]
  },
  {
   "cell_type": "code",
   "execution_count": 42,
   "metadata": {},
   "outputs": [],
   "source": [
    "model4= tf.keras.Sequential().from_config(model.get_config())"
   ]
  },
  {
   "cell_type": "code",
   "execution_count": 43,
   "metadata": {},
   "outputs": [
    {
     "data": {
      "text/plain": [
       "{'name': 'sequential',\n",
       " 'layers': [{'class_name': 'InputLayer',\n",
       "   'config': {'batch_input_shape': (None, 1),\n",
       "    'dtype': 'float32',\n",
       "    'sparse': False,\n",
       "    'ragged': False,\n",
       "    'name': 'dense_input'}},\n",
       "  {'class_name': 'Dense',\n",
       "   'config': {'name': 'dense',\n",
       "    'trainable': True,\n",
       "    'dtype': 'float32',\n",
       "    'batch_input_shape': (None, 1),\n",
       "    'units': 10,\n",
       "    'activation': 'linear',\n",
       "    'use_bias': True,\n",
       "    'kernel_initializer': {'class_name': 'GlorotUniform',\n",
       "     'config': {'seed': None}},\n",
       "    'bias_initializer': {'class_name': 'Zeros', 'config': {}},\n",
       "    'kernel_regularizer': None,\n",
       "    'bias_regularizer': None,\n",
       "    'activity_regularizer': None,\n",
       "    'kernel_constraint': None,\n",
       "    'bias_constraint': None}},\n",
       "  {'class_name': 'Dense',\n",
       "   'config': {'name': 'dense_1',\n",
       "    'trainable': True,\n",
       "    'dtype': 'float32',\n",
       "    'units': 10,\n",
       "    'activation': 'linear',\n",
       "    'use_bias': True,\n",
       "    'kernel_initializer': {'class_name': 'GlorotUniform',\n",
       "     'config': {'seed': None}},\n",
       "    'bias_initializer': {'class_name': 'Zeros', 'config': {}},\n",
       "    'kernel_regularizer': None,\n",
       "    'bias_regularizer': None,\n",
       "    'activity_regularizer': None,\n",
       "    'kernel_constraint': None,\n",
       "    'bias_constraint': None}}]}"
      ]
     },
     "execution_count": 43,
     "metadata": {},
     "output_type": "execute_result"
    }
   ],
   "source": [
    "model4.get_config()"
   ]
  }
 ],
 "metadata": {
  "kernelspec": {
   "display_name": "base",
   "language": "python",
   "name": "python3"
  },
  "language_info": {
   "codemirror_mode": {
    "name": "ipython",
    "version": 3
   },
   "file_extension": ".py",
   "mimetype": "text/x-python",
   "name": "python",
   "nbconvert_exporter": "python",
   "pygments_lexer": "ipython3",
   "version": "3.9.16"
  },
  "orig_nbformat": 4
 },
 "nbformat": 4,
 "nbformat_minor": 2
}
