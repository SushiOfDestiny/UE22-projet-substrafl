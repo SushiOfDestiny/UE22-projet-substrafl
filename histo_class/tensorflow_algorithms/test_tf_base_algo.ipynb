{
 "cells": [
  {
   "attachments": {},
   "cell_type": "markdown",
   "metadata": {},
   "source": [
    "# Importing libraries"
   ]
  },
  {
   "cell_type": "code",
   "execution_count": 13,
   "metadata": {},
   "outputs": [],
   "source": [
    "from typing import List\n",
    "import tensorflow as tf\n",
    "import numpy as np\n",
    "from tensorflow.keras import datasets, layers, models\n",
    "\n",
    "import weight_manager\n",
    "\n",
    "import cloudpickle\n",
    "\n",
    "import pathlib\n",
    "# https://www.geeksforgeeks.org/ordereddict-in-python/"
   ]
  },
  {
   "attachments": {},
   "cell_type": "markdown",
   "metadata": {},
   "source": [
    "# Creating model "
   ]
  },
  {
   "cell_type": "code",
   "execution_count": 14,
   "metadata": {},
   "outputs": [],
   "source": [
    "# simple model creation\n",
    "\n",
    "model = tf.keras.Sequential()\n",
    "model.add(layers.Dense(units=10, input_shape=(1,)))\n",
    "model.add(layers.Dense(units=10))\n",
    "# model.add(layers.Conv2D(32, (3, 3), activation='relu', input_shape=(32,32,3)))\n",
    "# model.add(layers.MaxPooling2D((2, 2)))\n",
    "# model.add(layers.Conv2D(64, (3, 3), activation='relu'))\n",
    "# model.add(layers.MaxPooling2D((2, 2)))\n",
    "# model.add(layers.Conv2D(64, (3, 3), activation='relu'))\n",
    "\n",
    "optimizer = tf.keras.optimizers.Adam(learning_rate=0.001)\n"
   ]
  },
  {
   "attachments": {},
   "cell_type": "markdown",
   "metadata": {},
   "source": [
    "## Testing layers methods"
   ]
  },
  {
   "cell_type": "code",
   "execution_count": 15,
   "metadata": {},
   "outputs": [
    {
     "data": {
      "text/plain": [
       "('dense_2', 'dense_3')"
      ]
     },
     "execution_count": 15,
     "metadata": {},
     "output_type": "execute_result"
    }
   ],
   "source": [
    "# automatic name creation\n",
    "model.layers[0].name,model.layers[1].name"
   ]
  },
  {
   "cell_type": "code",
   "execution_count": 16,
   "metadata": {},
   "outputs": [
    {
     "data": {
      "text/plain": [
       "[array([[-0.3808652 , -0.6323739 , -0.6473553 , -0.71325994, -0.08594793,\n",
       "         -0.22682303,  0.28857   , -0.18017793,  0.08728844, -0.14109099]],\n",
       "       dtype=float32),\n",
       " array([0., 0., 0., 0., 0., 0., 0., 0., 0., 0.], dtype=float32)]"
      ]
     },
     "execution_count": 16,
     "metadata": {},
     "output_type": "execute_result"
    }
   ],
   "source": [
    "model.layers[0].get_weights() # gives (weights, bias)"
   ]
  },
  {
   "cell_type": "code",
   "execution_count": 17,
   "metadata": {},
   "outputs": [
    {
     "data": {
      "text/plain": [
       "'4'"
      ]
     },
     "execution_count": 17,
     "metadata": {},
     "output_type": "execute_result"
    }
   ],
   "source": [
    "f'{2+2}'"
   ]
  },
  {
   "cell_type": "code",
   "execution_count": 18,
   "metadata": {},
   "outputs": [
    {
     "data": {
      "text/plain": [
       "OrderedDict([('config',\n",
       "              {'name': 'sequential_1',\n",
       "               'layers': [{'class_name': 'InputLayer',\n",
       "                 'config': {'batch_input_shape': (None, 1),\n",
       "                  'dtype': 'float32',\n",
       "                  'sparse': False,\n",
       "                  'ragged': False,\n",
       "                  'name': 'dense_2_input'}},\n",
       "                {'class_name': 'Dense',\n",
       "                 'config': {'name': 'dense_2',\n",
       "                  'trainable': True,\n",
       "                  'dtype': 'float32',\n",
       "                  'batch_input_shape': (None, 1),\n",
       "                  'units': 10,\n",
       "                  'activation': 'linear',\n",
       "                  'use_bias': True,\n",
       "                  'kernel_initializer': {'class_name': 'GlorotUniform',\n",
       "                   'config': {'seed': None}},\n",
       "                  'bias_initializer': {'class_name': 'Zeros', 'config': {}},\n",
       "                  'kernel_regularizer': None,\n",
       "                  'bias_regularizer': None,\n",
       "                  'activity_regularizer': None,\n",
       "                  'kernel_constraint': None,\n",
       "                  'bias_constraint': None}},\n",
       "                {'class_name': 'Dense',\n",
       "                 'config': {'name': 'dense_3',\n",
       "                  'trainable': True,\n",
       "                  'dtype': 'float32',\n",
       "                  'units': 10,\n",
       "                  'activation': 'linear',\n",
       "                  'use_bias': True,\n",
       "                  'kernel_initializer': {'class_name': 'GlorotUniform',\n",
       "                   'config': {'seed': None}},\n",
       "                  'bias_initializer': {'class_name': 'Zeros', 'config': {}},\n",
       "                  'kernel_regularizer': None,\n",
       "                  'bias_regularizer': None,\n",
       "                  'activity_regularizer': None,\n",
       "                  'kernel_constraint': None,\n",
       "                  'bias_constraint': None}}]}),\n",
       "             ('weights',\n",
       "              [array([[-0.3808652 , -0.6323739 , -0.6473553 , -0.71325994, -0.08594793,\n",
       "                       -0.22682303,  0.28857   , -0.18017793,  0.08728844, -0.14109099]],\n",
       "                     dtype=float32),\n",
       "               array([0., 0., 0., 0., 0., 0., 0., 0., 0., 0.], dtype=float32),\n",
       "               array([[ 0.25114197, -0.3110532 , -0.5003104 , -0.4473185 ,  0.08007652,\n",
       "                       -0.48265213,  0.17360139,  0.18494129,  0.19642603, -0.45812982],\n",
       "                      [-0.05974379,  0.25578475,  0.16984504,  0.42956543, -0.12409678,\n",
       "                        0.35256088,  0.2756719 , -0.35149473,  0.1383034 ,  0.4237216 ],\n",
       "                      [-0.0387336 , -0.25194287,  0.2911505 ,  0.5191808 , -0.24995339,\n",
       "                       -0.03677022, -0.5375024 , -0.02169722,  0.36553407, -0.40219942],\n",
       "                      [ 0.43139988,  0.22985965, -0.03710729,  0.41512936,  0.27066517,\n",
       "                        0.17599058, -0.520954  ,  0.42753923,  0.17385381, -0.50503516],\n",
       "                      [ 0.4441123 ,  0.4497388 ,  0.11788124, -0.13655743,  0.13342291,\n",
       "                        0.53211033, -0.41852164,  0.19234025,  0.3317526 ,  0.3959934 ],\n",
       "                      [ 0.33512825, -0.00171173, -0.49362785, -0.3264168 ,  0.50033   ,\n",
       "                        0.49878204, -0.3604067 , -0.10298738,  0.4285288 ,  0.1940645 ],\n",
       "                      [ 0.43811   , -0.18449548, -0.41962707, -0.05966741,  0.52772   ,\n",
       "                        0.03061777,  0.2427721 ,  0.5452037 ,  0.2300148 , -0.42768312],\n",
       "                      [-0.03405648, -0.27798405,  0.40512055, -0.00153518,  0.52731586,\n",
       "                        0.18820792,  0.06514096, -0.02985787, -0.45711723,  0.14609355],\n",
       "                      [ 0.06419146,  0.40894008,  0.07944363,  0.4358921 , -0.47733045,\n",
       "                       -0.25143516, -0.07299316,  0.3930019 , -0.13696212, -0.19429043],\n",
       "                      [-0.16483766, -0.07042634,  0.1942851 , -0.06785706,  0.07494962,\n",
       "                       -0.1341426 ,  0.4749906 , -0.45022327, -0.5174368 ,  0.19115841]],\n",
       "                     dtype=float32),\n",
       "               array([0., 0., 0., 0., 0., 0., 0., 0., 0., 0.], dtype=float32)])])"
      ]
     },
     "execution_count": 18,
     "metadata": {},
     "output_type": "execute_result"
    }
   ],
   "source": [
    "weight_manager.model_state_dict(model)"
   ]
  },
  {
   "cell_type": "code",
   "execution_count": 19,
   "metadata": {},
   "outputs": [
    {
     "data": {
      "text/plain": [
       "{'name': 'Adam',\n",
       " 'weight_decay': None,\n",
       " 'clipnorm': None,\n",
       " 'global_clipnorm': None,\n",
       " 'clipvalue': None,\n",
       " 'use_ema': False,\n",
       " 'ema_momentum': 0.99,\n",
       " 'ema_overwrite_frequency': None,\n",
       " 'jit_compile': False,\n",
       " 'is_legacy_optimizer': False,\n",
       " 'learning_rate': 0.001,\n",
       " 'beta_1': 0.9,\n",
       " 'beta_2': 0.999,\n",
       " 'epsilon': 1e-07,\n",
       " 'amsgrad': False}"
      ]
     },
     "execution_count": 19,
     "metadata": {},
     "output_type": "execute_result"
    }
   ],
   "source": [
    "optimizer.get_config() # OK, et 'state ?'"
   ]
  },
  {
   "cell_type": "code",
   "execution_count": 20,
   "metadata": {},
   "outputs": [
    {
     "data": {
      "text/plain": [
       "{'name': 'sequential_1',\n",
       " 'layers': [{'class_name': 'InputLayer',\n",
       "   'config': {'batch_input_shape': (None, 1),\n",
       "    'dtype': 'float32',\n",
       "    'sparse': False,\n",
       "    'ragged': False,\n",
       "    'name': 'dense_2_input'}},\n",
       "  {'class_name': 'Dense',\n",
       "   'config': {'name': 'dense_2',\n",
       "    'trainable': True,\n",
       "    'dtype': 'float32',\n",
       "    'batch_input_shape': (None, 1),\n",
       "    'units': 10,\n",
       "    'activation': 'linear',\n",
       "    'use_bias': True,\n",
       "    'kernel_initializer': {'class_name': 'GlorotUniform',\n",
       "     'config': {'seed': None}},\n",
       "    'bias_initializer': {'class_name': 'Zeros', 'config': {}},\n",
       "    'kernel_regularizer': None,\n",
       "    'bias_regularizer': None,\n",
       "    'activity_regularizer': None,\n",
       "    'kernel_constraint': None,\n",
       "    'bias_constraint': None}},\n",
       "  {'class_name': 'Dense',\n",
       "   'config': {'name': 'dense_3',\n",
       "    'trainable': True,\n",
       "    'dtype': 'float32',\n",
       "    'units': 10,\n",
       "    'activation': 'linear',\n",
       "    'use_bias': True,\n",
       "    'kernel_initializer': {'class_name': 'GlorotUniform',\n",
       "     'config': {'seed': None}},\n",
       "    'bias_initializer': {'class_name': 'Zeros', 'config': {}},\n",
       "    'kernel_regularizer': None,\n",
       "    'bias_regularizer': None,\n",
       "    'activity_regularizer': None,\n",
       "    'kernel_constraint': None,\n",
       "    'bias_constraint': None}}]}"
      ]
     },
     "execution_count": 20,
     "metadata": {},
     "output_type": "execute_result"
    }
   ],
   "source": [
    "model.get_config()"
   ]
  },
  {
   "cell_type": "code",
   "execution_count": 21,
   "metadata": {},
   "outputs": [
    {
     "data": {
      "text/plain": [
       "[array([[-0.3808652 , -0.6323739 , -0.6473553 , -0.71325994, -0.08594793,\n",
       "         -0.22682303,  0.28857   , -0.18017793,  0.08728844, -0.14109099]],\n",
       "       dtype=float32),\n",
       " array([0., 0., 0., 0., 0., 0., 0., 0., 0., 0.], dtype=float32),\n",
       " array([[ 0.25114197, -0.3110532 , -0.5003104 , -0.4473185 ,  0.08007652,\n",
       "         -0.48265213,  0.17360139,  0.18494129,  0.19642603, -0.45812982],\n",
       "        [-0.05974379,  0.25578475,  0.16984504,  0.42956543, -0.12409678,\n",
       "          0.35256088,  0.2756719 , -0.35149473,  0.1383034 ,  0.4237216 ],\n",
       "        [-0.0387336 , -0.25194287,  0.2911505 ,  0.5191808 , -0.24995339,\n",
       "         -0.03677022, -0.5375024 , -0.02169722,  0.36553407, -0.40219942],\n",
       "        [ 0.43139988,  0.22985965, -0.03710729,  0.41512936,  0.27066517,\n",
       "          0.17599058, -0.520954  ,  0.42753923,  0.17385381, -0.50503516],\n",
       "        [ 0.4441123 ,  0.4497388 ,  0.11788124, -0.13655743,  0.13342291,\n",
       "          0.53211033, -0.41852164,  0.19234025,  0.3317526 ,  0.3959934 ],\n",
       "        [ 0.33512825, -0.00171173, -0.49362785, -0.3264168 ,  0.50033   ,\n",
       "          0.49878204, -0.3604067 , -0.10298738,  0.4285288 ,  0.1940645 ],\n",
       "        [ 0.43811   , -0.18449548, -0.41962707, -0.05966741,  0.52772   ,\n",
       "          0.03061777,  0.2427721 ,  0.5452037 ,  0.2300148 , -0.42768312],\n",
       "        [-0.03405648, -0.27798405,  0.40512055, -0.00153518,  0.52731586,\n",
       "          0.18820792,  0.06514096, -0.02985787, -0.45711723,  0.14609355],\n",
       "        [ 0.06419146,  0.40894008,  0.07944363,  0.4358921 , -0.47733045,\n",
       "         -0.25143516, -0.07299316,  0.3930019 , -0.13696212, -0.19429043],\n",
       "        [-0.16483766, -0.07042634,  0.1942851 , -0.06785706,  0.07494962,\n",
       "         -0.1341426 ,  0.4749906 , -0.45022327, -0.5174368 ,  0.19115841]],\n",
       "       dtype=float32),\n",
       " array([0., 0., 0., 0., 0., 0., 0., 0., 0., 0.], dtype=float32)]"
      ]
     },
     "execution_count": 21,
     "metadata": {},
     "output_type": "execute_result"
    }
   ],
   "source": [
    "model.get_weights() #list"
   ]
  },
  {
   "attachments": {},
   "cell_type": "markdown",
   "metadata": {},
   "source": [
    "# Testing serialization of tf objects"
   ]
  },
  {
   "cell_type": "code",
   "execution_count": 22,
   "metadata": {},
   "outputs": [],
   "source": [
    "checkpoint = {\n",
    "    \"model_state_dict\" : weight_manager.model_state_dict(model),\n",
    "    \"optimizer_state_dict\" : optimizer.get_config()\n",
    "}"
   ]
  },
  {
   "cell_type": "code",
   "execution_count": 23,
   "metadata": {},
   "outputs": [],
   "source": [
    "with open(pathlib.Path.cwd() / \"test_serialization\", \"wb\") as f:\n",
    "    cloudpickle.dump(checkpoint, f)"
   ]
  },
  {
   "cell_type": "code",
   "execution_count": 24,
   "metadata": {},
   "outputs": [],
   "source": [
    "with open(pathlib.Path.cwd() / \"test_serialization\", \"rb\") as f:\n",
    "        checkpoint = cloudpickle.load(f)"
   ]
  },
  {
   "cell_type": "code",
   "execution_count": 25,
   "metadata": {},
   "outputs": [
    {
     "data": {
      "text/plain": [
       "{'model_state_dict': OrderedDict([('config',\n",
       "               {'name': 'sequential_1',\n",
       "                'layers': [{'class_name': 'InputLayer',\n",
       "                  'config': {'batch_input_shape': (None, 1),\n",
       "                   'dtype': 'float32',\n",
       "                   'sparse': False,\n",
       "                   'ragged': False,\n",
       "                   'name': 'dense_2_input'}},\n",
       "                 {'class_name': 'Dense',\n",
       "                  'config': {'name': 'dense_2',\n",
       "                   'trainable': True,\n",
       "                   'dtype': 'float32',\n",
       "                   'batch_input_shape': (None, 1),\n",
       "                   'units': 10,\n",
       "                   'activation': 'linear',\n",
       "                   'use_bias': True,\n",
       "                   'kernel_initializer': {'class_name': 'GlorotUniform',\n",
       "                    'config': {'seed': None}},\n",
       "                   'bias_initializer': {'class_name': 'Zeros', 'config': {}},\n",
       "                   'kernel_regularizer': None,\n",
       "                   'bias_regularizer': None,\n",
       "                   'activity_regularizer': None,\n",
       "                   'kernel_constraint': None,\n",
       "                   'bias_constraint': None}},\n",
       "                 {'class_name': 'Dense',\n",
       "                  'config': {'name': 'dense_3',\n",
       "                   'trainable': True,\n",
       "                   'dtype': 'float32',\n",
       "                   'units': 10,\n",
       "                   'activation': 'linear',\n",
       "                   'use_bias': True,\n",
       "                   'kernel_initializer': {'class_name': 'GlorotUniform',\n",
       "                    'config': {'seed': None}},\n",
       "                   'bias_initializer': {'class_name': 'Zeros', 'config': {}},\n",
       "                   'kernel_regularizer': None,\n",
       "                   'bias_regularizer': None,\n",
       "                   'activity_regularizer': None,\n",
       "                   'kernel_constraint': None,\n",
       "                   'bias_constraint': None}}]}),\n",
       "              ('weights',\n",
       "               [array([[-0.3808652 , -0.6323739 , -0.6473553 , -0.71325994, -0.08594793,\n",
       "                        -0.22682303,  0.28857   , -0.18017793,  0.08728844, -0.14109099]],\n",
       "                      dtype=float32),\n",
       "                array([0., 0., 0., 0., 0., 0., 0., 0., 0., 0.], dtype=float32),\n",
       "                array([[ 0.25114197, -0.3110532 , -0.5003104 , -0.4473185 ,  0.08007652,\n",
       "                        -0.48265213,  0.17360139,  0.18494129,  0.19642603, -0.45812982],\n",
       "                       [-0.05974379,  0.25578475,  0.16984504,  0.42956543, -0.12409678,\n",
       "                         0.35256088,  0.2756719 , -0.35149473,  0.1383034 ,  0.4237216 ],\n",
       "                       [-0.0387336 , -0.25194287,  0.2911505 ,  0.5191808 , -0.24995339,\n",
       "                        -0.03677022, -0.5375024 , -0.02169722,  0.36553407, -0.40219942],\n",
       "                       [ 0.43139988,  0.22985965, -0.03710729,  0.41512936,  0.27066517,\n",
       "                         0.17599058, -0.520954  ,  0.42753923,  0.17385381, -0.50503516],\n",
       "                       [ 0.4441123 ,  0.4497388 ,  0.11788124, -0.13655743,  0.13342291,\n",
       "                         0.53211033, -0.41852164,  0.19234025,  0.3317526 ,  0.3959934 ],\n",
       "                       [ 0.33512825, -0.00171173, -0.49362785, -0.3264168 ,  0.50033   ,\n",
       "                         0.49878204, -0.3604067 , -0.10298738,  0.4285288 ,  0.1940645 ],\n",
       "                       [ 0.43811   , -0.18449548, -0.41962707, -0.05966741,  0.52772   ,\n",
       "                         0.03061777,  0.2427721 ,  0.5452037 ,  0.2300148 , -0.42768312],\n",
       "                       [-0.03405648, -0.27798405,  0.40512055, -0.00153518,  0.52731586,\n",
       "                         0.18820792,  0.06514096, -0.02985787, -0.45711723,  0.14609355],\n",
       "                       [ 0.06419146,  0.40894008,  0.07944363,  0.4358921 , -0.47733045,\n",
       "                        -0.25143516, -0.07299316,  0.3930019 , -0.13696212, -0.19429043],\n",
       "                       [-0.16483766, -0.07042634,  0.1942851 , -0.06785706,  0.07494962,\n",
       "                        -0.1341426 ,  0.4749906 , -0.45022327, -0.5174368 ,  0.19115841]],\n",
       "                      dtype=float32),\n",
       "                array([0., 0., 0., 0., 0., 0., 0., 0., 0., 0.], dtype=float32)])]),\n",
       " 'optimizer_state_dict': {'name': 'Adam',\n",
       "  'weight_decay': None,\n",
       "  'clipnorm': None,\n",
       "  'global_clipnorm': None,\n",
       "  'clipvalue': None,\n",
       "  'use_ema': False,\n",
       "  'ema_momentum': 0.99,\n",
       "  'ema_overwrite_frequency': None,\n",
       "  'jit_compile': False,\n",
       "  'is_legacy_optimizer': False,\n",
       "  'learning_rate': 0.001,\n",
       "  'beta_1': 0.9,\n",
       "  'beta_2': 0.999,\n",
       "  'epsilon': 1e-07,\n",
       "  'amsgrad': False}}"
      ]
     },
     "execution_count": 25,
     "metadata": {},
     "output_type": "execute_result"
    }
   ],
   "source": [
    "checkpoint"
   ]
  }
 ],
 "metadata": {
  "kernelspec": {
   "display_name": "base",
   "language": "python",
   "name": "python3"
  },
  "language_info": {
   "codemirror_mode": {
    "name": "ipython",
    "version": 3
   },
   "file_extension": ".py",
   "mimetype": "text/x-python",
   "name": "python",
   "nbconvert_exporter": "python",
   "pygments_lexer": "ipython3",
   "version": "3.9.16"
  },
  "orig_nbformat": 4
 },
 "nbformat": 4,
 "nbformat_minor": 2
}
