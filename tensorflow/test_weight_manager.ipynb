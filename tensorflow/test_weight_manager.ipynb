{
 "cells": [
  {
   "attachments": {},
   "cell_type": "markdown",
   "metadata": {},
   "source": [
    "# Tests of algorithms.tensorflow.weight_manager.py"
   ]
  },
  {
   "cell_type": "code",
   "execution_count": 1,
   "metadata": {},
   "outputs": [],
   "source": [
    "from typing import List\n",
    "import tensorflow as tf\n",
    "import numpy as np\n",
    "from tensorflow.keras import datasets, layers, models\n",
    "\n",
    "import weight_manager"
   ]
  },
  {
   "cell_type": "code",
   "execution_count": 2,
   "metadata": {},
   "outputs": [],
   "source": [
    "# simple model creation\n",
    "\n",
    "model = tf.keras.Sequential()\n",
    "model.add(layers.Dense(units=10, input_shape=(1,)))\n",
    "model.add(layers.Dense(units=10))\n",
    "# model.add(layers.Conv2D(32, (3, 3), activation='relu', input_shape=(32,32,3)))\n",
    "# model.add(layers.MaxPooling2D((2, 2)))\n",
    "# model.add(layers.Conv2D(64, (3, 3), activation='relu'))\n",
    "# model.add(layers.MaxPooling2D((2, 2)))\n",
    "# model.add(layers.Conv2D(64, (3, 3), activation='relu'))\n"
   ]
  },
  {
   "cell_type": "code",
   "execution_count": 3,
   "metadata": {},
   "outputs": [
    {
     "name": "stdout",
     "output_type": "stream",
     "text": [
      "Model: \"sequential\"\n",
      "_________________________________________________________________\n",
      " Layer (type)                Output Shape              Param #   \n",
      "=================================================================\n",
      " dense (Dense)               (None, 10)                20        \n",
      "                                                                 \n",
      " dense_1 (Dense)             (None, 10)                110       \n",
      "                                                                 \n",
      "=================================================================\n",
      "Total params: 130\n",
      "Trainable params: 130\n",
      "Non-trainable params: 0\n",
      "_________________________________________________________________\n"
     ]
    }
   ],
   "source": [
    "model.summary()"
   ]
  },
  {
   "attachments": {},
   "cell_type": "markdown",
   "metadata": {},
   "source": [
    "## Analysis of model.weights"
   ]
  },
  {
   "cell_type": "code",
   "execution_count": 4,
   "metadata": {},
   "outputs": [
    {
     "data": {
      "text/plain": [
       "[<tf.Variable 'dense/kernel:0' shape=(1, 10) dtype=float32, numpy=\n",
       " array([[ 0.6143891 , -0.33047158, -0.24180108,  0.5252829 ,  0.04985142,\n",
       "         -0.5246601 , -0.70460457,  0.12846226,  0.48184675,  0.2796244 ]],\n",
       "       dtype=float32)>,\n",
       " <tf.Variable 'dense/bias:0' shape=(10,) dtype=float32, numpy=array([0., 0., 0., 0., 0., 0., 0., 0., 0., 0.], dtype=float32)>,\n",
       " <tf.Variable 'dense_1/kernel:0' shape=(10, 10) dtype=float32, numpy=\n",
       " array([[-0.02694577, -0.3598944 ,  0.18268394,  0.3832196 ,  0.39344966,\n",
       "         -0.3509472 ,  0.0593583 , -0.07464445, -0.2811039 ,  0.30090827],\n",
       "        [-0.35939425, -0.19665053, -0.43978634,  0.19091892, -0.23696375,\n",
       "          0.51201093,  0.5377995 ,  0.27957994,  0.34323692,  0.12575239],\n",
       "        [ 0.3113979 , -0.0096761 , -0.29562196,  0.31374955, -0.08146018,\n",
       "          0.07152629,  0.02608532, -0.3196398 , -0.12092614,  0.16682756],\n",
       "        [-0.2533424 ,  0.33970338, -0.47341517,  0.44609904,  0.04294217,\n",
       "          0.19805825, -0.06974143,  0.11319315,  0.1327337 , -0.37112617],\n",
       "        [ 0.3471809 , -0.41555706, -0.46104622,  0.22237515,  0.34109074,\n",
       "          0.09833783, -0.10131767,  0.23276329,  0.27808028, -0.42358333],\n",
       "        [ 0.00130117, -0.06581977,  0.09514445,  0.4977858 ,  0.36019993,\n",
       "          0.5163467 ,  0.5317856 ,  0.44040143,  0.50394046,  0.4826845 ],\n",
       "        [-0.35912913, -0.2946944 , -0.12165898,  0.27633172, -0.45831484,\n",
       "         -0.03719127, -0.52231526, -0.11403295,  0.50623477,  0.05639017],\n",
       "        [ 0.5172142 ,  0.40252918,  0.12293297, -0.5427678 ,  0.12264347,\n",
       "          0.02052897,  0.17412633,  0.19800144,  0.47944188, -0.19060722],\n",
       "        [-0.5094832 , -0.413958  , -0.352544  ,  0.11954349,  0.2430892 ,\n",
       "         -0.07677197, -0.39684144, -0.50215113, -0.46106136, -0.29376462],\n",
       "        [-0.5258889 , -0.29174823,  0.2192654 ,  0.10403192, -0.2582022 ,\n",
       "          0.3878544 ,  0.26364976,  0.5446068 ,  0.5235679 , -0.31443056]],\n",
       "       dtype=float32)>,\n",
       " <tf.Variable 'dense_1/bias:0' shape=(10,) dtype=float32, numpy=array([0., 0., 0., 0., 0., 0., 0., 0., 0., 0.], dtype=float32)>]"
      ]
     },
     "execution_count": 4,
     "metadata": {},
     "output_type": "execute_result"
    }
   ],
   "source": [
    "model.weights \n",
    "# list of tf.Variable, 1 for each layer, therefore we use this python object\n",
    "\n",
    "# model.weights returns :\n",
    "# [layer0_kernel,layer0_bias, ..., layerN_kernel,layerN_bias]\n",
    "# so parameters are the kernels and biases of each layer "
   ]
  },
  {
   "cell_type": "code",
   "execution_count": 5,
   "metadata": {},
   "outputs": [],
   "source": [
    "var = tf.Variable(initial_value=np.full(shape=(10,), fill_value=1.), dtype='float32')\n",
    "\n",
    "# it is important to force dtype float32 of weights updates"
   ]
  },
  {
   "cell_type": "code",
   "execution_count": 6,
   "metadata": {},
   "outputs": [
    {
     "data": {
      "text/plain": [
       "<tf.Tensor: shape=(10,), dtype=float32, numpy=array([1., 1., 1., 1., 1., 1., 1., 1., 1., 1.], dtype=float32)>"
      ]
     },
     "execution_count": 6,
     "metadata": {},
     "output_type": "execute_result"
    }
   ],
   "source": [
    "var.value()"
   ]
  },
  {
   "attachments": {},
   "cell_type": "markdown",
   "metadata": {},
   "source": [
    "Native methods for weights update"
   ]
  },
  {
   "cell_type": "code",
   "execution_count": 7,
   "metadata": {},
   "outputs": [
    {
     "data": {
      "text/plain": [
       "<tf.Variable 'UnreadVariable' shape=(10,) dtype=float32, numpy=array([1., 1., 1., 1., 1., 1., 1., 1., 1., 1.], dtype=float32)>"
      ]
     },
     "execution_count": 7,
     "metadata": {},
     "output_type": "execute_result"
    }
   ],
   "source": [
    "model.weights[1].assign_add(delta = var) # sums weight and delta"
   ]
  },
  {
   "cell_type": "code",
   "execution_count": 8,
   "metadata": {},
   "outputs": [
    {
     "data": {
      "text/plain": [
       "<tf.Variable 'UnreadVariable' shape=(10,) dtype=float32, numpy=array([0., 0., 0., 0., 0., 0., 0., 0., 0., 0.], dtype=float32)>"
      ]
     },
     "execution_count": 8,
     "metadata": {},
     "output_type": "execute_result"
    }
   ],
   "source": [
    "model.weights[1].assign_sub(delta = var) # sums weight and delta"
   ]
  },
  {
   "attachments": {},
   "cell_type": "markdown",
   "metadata": {},
   "source": [
    "## Tests of weight_manager module"
   ]
  },
  {
   "cell_type": "code",
   "execution_count": 9,
   "metadata": {},
   "outputs": [],
   "source": [
    "updates = [\n",
    "    tf.Variable(initial_value=np.full(shape=(1,10), fill_value=1., dtype='float32')),\n",
    "    tf.Variable(initial_value=np.full(shape=(10,), fill_value=1., dtype='float32')),\n",
    "    tf.Variable(initial_value=np.full(shape=(10,10), fill_value=1., dtype='float32')),\n",
    "    tf.Variable(initial_value=np.full(shape=(10,), fill_value=1., dtype='float32')),\n",
    "]\n",
    "\n",
    "# dtype='float32' is important"
   ]
  },
  {
   "cell_type": "code",
   "execution_count": 10,
   "metadata": {},
   "outputs": [],
   "source": [
    "updates2 = [\n",
    "    tf.Variable(initial_value=np.full(shape=(1,10), fill_value=2., dtype='float32')),\n",
    "    tf.Variable(initial_value=np.full(shape=(10,), fill_value=2., dtype='float32')),\n",
    "    tf.Variable(initial_value=np.full(shape=(10,10), fill_value=2., dtype='float32')),\n",
    "    tf.Variable(initial_value=np.full(shape=(10,), fill_value=2., dtype='float32')),\n",
    "]"
   ]
  },
  {
   "cell_type": "code",
   "execution_count": 11,
   "metadata": {},
   "outputs": [],
   "source": [
    "weight_manager.increment_parameters(model=model, updates=updates, updates_multiplier=0.5)"
   ]
  },
  {
   "cell_type": "code",
   "execution_count": 12,
   "metadata": {},
   "outputs": [
    {
     "data": {
      "text/plain": [
       "[<tf.Variable 'dense/kernel:0' shape=(1, 10) dtype=float32, numpy=\n",
       " array([[ 1.1143892 ,  0.16952842,  0.25819892,  1.0252829 ,  0.5498514 ,\n",
       "         -0.02466011, -0.20460457,  0.62846226,  0.98184675,  0.7796244 ]],\n",
       "       dtype=float32)>,\n",
       " <tf.Variable 'dense/bias:0' shape=(10,) dtype=float32, numpy=array([0.5, 0.5, 0.5, 0.5, 0.5, 0.5, 0.5, 0.5, 0.5, 0.5], dtype=float32)>,\n",
       " <tf.Variable 'dense_1/kernel:0' shape=(10, 10) dtype=float32, numpy=\n",
       " array([[ 0.47305423,  0.1401056 ,  0.68268394,  0.8832196 ,  0.89344966,\n",
       "          0.1490528 ,  0.5593583 ,  0.42535555,  0.21889609,  0.80090827],\n",
       "        [ 0.14060575,  0.30334947,  0.06021366,  0.6909189 ,  0.26303625,\n",
       "          1.0120109 ,  1.0377995 ,  0.77957994,  0.8432369 ,  0.6257524 ],\n",
       "        [ 0.8113979 ,  0.4903239 ,  0.20437804,  0.81374955,  0.41853982,\n",
       "          0.5715263 ,  0.5260853 ,  0.1803602 ,  0.37907386,  0.66682756],\n",
       "        [ 0.24665761,  0.8397034 ,  0.02658483,  0.94609904,  0.54294217,\n",
       "          0.69805825,  0.43025857,  0.61319315,  0.6327337 ,  0.12887383],\n",
       "        [ 0.8471809 ,  0.08444294,  0.03895378,  0.72237515,  0.84109074,\n",
       "          0.5983378 ,  0.39868233,  0.7327633 ,  0.7780803 ,  0.07641667],\n",
       "        [ 0.50130117,  0.43418023,  0.59514445,  0.9977858 ,  0.8601999 ,\n",
       "          1.0163467 ,  1.0317856 ,  0.94040143,  1.0039405 ,  0.9826845 ],\n",
       "        [ 0.14087087,  0.2053056 ,  0.37834102,  0.7763317 ,  0.04168516,\n",
       "          0.46280873, -0.02231526,  0.38596705,  1.0062348 ,  0.55639017],\n",
       "        [ 1.0172142 ,  0.9025292 ,  0.622933  , -0.04276782,  0.6226435 ,\n",
       "          0.520529  ,  0.6741263 ,  0.69800144,  0.9794419 ,  0.30939278],\n",
       "        [-0.00948322,  0.08604199,  0.14745599,  0.6195435 ,  0.7430892 ,\n",
       "          0.42322803,  0.10315856, -0.00215113,  0.03893864,  0.20623538],\n",
       "        [-0.02588892,  0.20825177,  0.7192654 ,  0.6040319 ,  0.2417978 ,\n",
       "          0.8878544 ,  0.76364976,  1.0446068 ,  1.0235679 ,  0.18556944]],\n",
       "       dtype=float32)>,\n",
       " <tf.Variable 'dense_1/bias:0' shape=(10,) dtype=float32, numpy=array([0.5, 0.5, 0.5, 0.5, 0.5, 0.5, 0.5, 0.5, 0.5, 0.5], dtype=float32)>]"
      ]
     },
     "execution_count": 12,
     "metadata": {},
     "output_type": "execute_result"
    }
   ],
   "source": [
    "model.weights # on bias layers we see clearly the results"
   ]
  },
  {
   "cell_type": "code",
   "execution_count": 13,
   "metadata": {},
   "outputs": [
    {
     "data": {
      "text/plain": [
       "[<tf.Tensor: shape=(1, 10), dtype=float32, numpy=array([[0.9, 0.9, 0.9, 0.9, 0.9, 0.9, 0.9, 0.9, 0.9, 0.9]], dtype=float32)>,\n",
       " <tf.Tensor: shape=(10,), dtype=float32, numpy=array([0.9, 0.9, 0.9, 0.9, 0.9, 0.9, 0.9, 0.9, 0.9, 0.9], dtype=float32)>,\n",
       " <tf.Tensor: shape=(10, 10), dtype=float32, numpy=\n",
       " array([[0.9, 0.9, 0.9, 0.9, 0.9, 0.9, 0.9, 0.9, 0.9, 0.9],\n",
       "        [0.9, 0.9, 0.9, 0.9, 0.9, 0.9, 0.9, 0.9, 0.9, 0.9],\n",
       "        [0.9, 0.9, 0.9, 0.9, 0.9, 0.9, 0.9, 0.9, 0.9, 0.9],\n",
       "        [0.9, 0.9, 0.9, 0.9, 0.9, 0.9, 0.9, 0.9, 0.9, 0.9],\n",
       "        [0.9, 0.9, 0.9, 0.9, 0.9, 0.9, 0.9, 0.9, 0.9, 0.9],\n",
       "        [0.9, 0.9, 0.9, 0.9, 0.9, 0.9, 0.9, 0.9, 0.9, 0.9],\n",
       "        [0.9, 0.9, 0.9, 0.9, 0.9, 0.9, 0.9, 0.9, 0.9, 0.9],\n",
       "        [0.9, 0.9, 0.9, 0.9, 0.9, 0.9, 0.9, 0.9, 0.9, 0.9],\n",
       "        [0.9, 0.9, 0.9, 0.9, 0.9, 0.9, 0.9, 0.9, 0.9, 0.9],\n",
       "        [0.9, 0.9, 0.9, 0.9, 0.9, 0.9, 0.9, 0.9, 0.9, 0.9]], dtype=float32)>,\n",
       " <tf.Tensor: shape=(10,), dtype=float32, numpy=array([0.9, 0.9, 0.9, 0.9, 0.9, 0.9, 0.9, 0.9, 0.9, 0.9], dtype=float32)>]"
      ]
     },
     "execution_count": 13,
     "metadata": {},
     "output_type": "execute_result"
    }
   ],
   "source": [
    "weight_manager.weighted_sum_parameters([updates, updates2], [0.5, 0.2])\n",
    "# incompréhensible"
   ]
  },
  {
   "cell_type": "code",
   "execution_count": 14,
   "metadata": {},
   "outputs": [
    {
     "data": {
      "text/plain": [
       "0.9"
      ]
     },
     "execution_count": 14,
     "metadata": {},
     "output_type": "execute_result"
    }
   ],
   "source": [
    ".5 * 1. + .2 * 2."
   ]
  },
  {
   "cell_type": "code",
   "execution_count": 15,
   "metadata": {},
   "outputs": [
    {
     "data": {
      "text/plain": [
       "[<tf.Tensor: shape=(1, 10), dtype=float32, numpy=array([[1., 1., 1., 1., 1., 1., 1., 1., 1., 1.]], dtype=float32)>,\n",
       " <tf.Tensor: shape=(10,), dtype=float32, numpy=array([1., 1., 1., 1., 1., 1., 1., 1., 1., 1.], dtype=float32)>,\n",
       " <tf.Tensor: shape=(10, 10), dtype=float32, numpy=\n",
       " array([[1., 1., 1., 1., 1., 1., 1., 1., 1., 1.],\n",
       "        [1., 1., 1., 1., 1., 1., 1., 1., 1., 1.],\n",
       "        [1., 1., 1., 1., 1., 1., 1., 1., 1., 1.],\n",
       "        [1., 1., 1., 1., 1., 1., 1., 1., 1., 1.],\n",
       "        [1., 1., 1., 1., 1., 1., 1., 1., 1., 1.],\n",
       "        [1., 1., 1., 1., 1., 1., 1., 1., 1., 1.],\n",
       "        [1., 1., 1., 1., 1., 1., 1., 1., 1., 1.],\n",
       "        [1., 1., 1., 1., 1., 1., 1., 1., 1., 1.],\n",
       "        [1., 1., 1., 1., 1., 1., 1., 1., 1., 1.],\n",
       "        [1., 1., 1., 1., 1., 1., 1., 1., 1., 1.]], dtype=float32)>,\n",
       " <tf.Tensor: shape=(10,), dtype=float32, numpy=array([1., 1., 1., 1., 1., 1., 1., 1., 1., 1.], dtype=float32)>]"
      ]
     },
     "execution_count": 15,
     "metadata": {},
     "output_type": "execute_result"
    }
   ],
   "source": [
    "weight_manager.subtract_parameters(updates2, updates)"
   ]
  },
  {
   "cell_type": "code",
   "execution_count": 16,
   "metadata": {},
   "outputs": [
    {
     "data": {
      "text/plain": [
       "[<tf.Tensor: shape=(1, 10), dtype=float32, numpy=array([[3., 3., 3., 3., 3., 3., 3., 3., 3., 3.]], dtype=float32)>,\n",
       " <tf.Tensor: shape=(10,), dtype=float32, numpy=array([3., 3., 3., 3., 3., 3., 3., 3., 3., 3.], dtype=float32)>,\n",
       " <tf.Tensor: shape=(10, 10), dtype=float32, numpy=\n",
       " array([[3., 3., 3., 3., 3., 3., 3., 3., 3., 3.],\n",
       "        [3., 3., 3., 3., 3., 3., 3., 3., 3., 3.],\n",
       "        [3., 3., 3., 3., 3., 3., 3., 3., 3., 3.],\n",
       "        [3., 3., 3., 3., 3., 3., 3., 3., 3., 3.],\n",
       "        [3., 3., 3., 3., 3., 3., 3., 3., 3., 3.],\n",
       "        [3., 3., 3., 3., 3., 3., 3., 3., 3., 3.],\n",
       "        [3., 3., 3., 3., 3., 3., 3., 3., 3., 3.],\n",
       "        [3., 3., 3., 3., 3., 3., 3., 3., 3., 3.],\n",
       "        [3., 3., 3., 3., 3., 3., 3., 3., 3., 3.],\n",
       "        [3., 3., 3., 3., 3., 3., 3., 3., 3., 3.]], dtype=float32)>,\n",
       " <tf.Tensor: shape=(10,), dtype=float32, numpy=array([3., 3., 3., 3., 3., 3., 3., 3., 3., 3.], dtype=float32)>]"
      ]
     },
     "execution_count": 16,
     "metadata": {},
     "output_type": "execute_result"
    }
   ],
   "source": [
    "weight_manager.add_parameters(updates2, updates)"
   ]
  },
  {
   "cell_type": "code",
   "execution_count": 17,
   "metadata": {},
   "outputs": [
    {
     "data": {
      "text/plain": [
       "[<tf.Variable 'dense/kernel:0' shape=(1, 10) dtype=float32, numpy=array([[1., 1., 1., 1., 1., 1., 1., 1., 1., 1.]], dtype=float32)>,\n",
       " <tf.Variable 'dense/bias:0' shape=(10,) dtype=float32, numpy=array([1., 1., 1., 1., 1., 1., 1., 1., 1., 1.], dtype=float32)>,\n",
       " <tf.Variable 'dense_1/kernel:0' shape=(10, 10) dtype=float32, numpy=\n",
       " array([[1., 1., 1., 1., 1., 1., 1., 1., 1., 1.],\n",
       "        [1., 1., 1., 1., 1., 1., 1., 1., 1., 1.],\n",
       "        [1., 1., 1., 1., 1., 1., 1., 1., 1., 1.],\n",
       "        [1., 1., 1., 1., 1., 1., 1., 1., 1., 1.],\n",
       "        [1., 1., 1., 1., 1., 1., 1., 1., 1., 1.],\n",
       "        [1., 1., 1., 1., 1., 1., 1., 1., 1., 1.],\n",
       "        [1., 1., 1., 1., 1., 1., 1., 1., 1., 1.],\n",
       "        [1., 1., 1., 1., 1., 1., 1., 1., 1., 1.],\n",
       "        [1., 1., 1., 1., 1., 1., 1., 1., 1., 1.],\n",
       "        [1., 1., 1., 1., 1., 1., 1., 1., 1., 1.]], dtype=float32)>,\n",
       " <tf.Variable 'dense_1/bias:0' shape=(10,) dtype=float32, numpy=array([1., 1., 1., 1., 1., 1., 1., 1., 1., 1.], dtype=float32)>]"
      ]
     },
     "execution_count": 17,
     "metadata": {},
     "output_type": "execute_result"
    }
   ],
   "source": [
    "old_weights = model.get_weights() # copy\n",
    "\n",
    "model.set_weights(updates)\n",
    "\n",
    "model.weights"
   ]
  },
  {
   "cell_type": "code",
   "execution_count": 18,
   "metadata": {},
   "outputs": [
    {
     "data": {
      "text/plain": [
       "[<tf.Variable 'dense/kernel:0' shape=(1, 10) dtype=float32, numpy=\n",
       " array([[ 1.1143892 ,  0.16952842,  0.25819892,  1.0252829 ,  0.5498514 ,\n",
       "         -0.02466011, -0.20460457,  0.62846226,  0.98184675,  0.7796244 ]],\n",
       "       dtype=float32)>,\n",
       " <tf.Variable 'dense/bias:0' shape=(10,) dtype=float32, numpy=array([0.5, 0.5, 0.5, 0.5, 0.5, 0.5, 0.5, 0.5, 0.5, 0.5], dtype=float32)>,\n",
       " <tf.Variable 'dense_1/kernel:0' shape=(10, 10) dtype=float32, numpy=\n",
       " array([[ 0.47305423,  0.1401056 ,  0.68268394,  0.8832196 ,  0.89344966,\n",
       "          0.1490528 ,  0.5593583 ,  0.42535555,  0.21889609,  0.80090827],\n",
       "        [ 0.14060575,  0.30334947,  0.06021366,  0.6909189 ,  0.26303625,\n",
       "          1.0120109 ,  1.0377995 ,  0.77957994,  0.8432369 ,  0.6257524 ],\n",
       "        [ 0.8113979 ,  0.4903239 ,  0.20437804,  0.81374955,  0.41853982,\n",
       "          0.5715263 ,  0.5260853 ,  0.1803602 ,  0.37907386,  0.66682756],\n",
       "        [ 0.24665761,  0.8397034 ,  0.02658483,  0.94609904,  0.54294217,\n",
       "          0.69805825,  0.43025857,  0.61319315,  0.6327337 ,  0.12887383],\n",
       "        [ 0.8471809 ,  0.08444294,  0.03895378,  0.72237515,  0.84109074,\n",
       "          0.5983378 ,  0.39868233,  0.7327633 ,  0.7780803 ,  0.07641667],\n",
       "        [ 0.50130117,  0.43418023,  0.59514445,  0.9977858 ,  0.8601999 ,\n",
       "          1.0163467 ,  1.0317856 ,  0.94040143,  1.0039405 ,  0.9826845 ],\n",
       "        [ 0.14087087,  0.2053056 ,  0.37834102,  0.7763317 ,  0.04168516,\n",
       "          0.46280873, -0.02231526,  0.38596705,  1.0062348 ,  0.55639017],\n",
       "        [ 1.0172142 ,  0.9025292 ,  0.622933  , -0.04276782,  0.6226435 ,\n",
       "          0.520529  ,  0.6741263 ,  0.69800144,  0.9794419 ,  0.30939278],\n",
       "        [-0.00948322,  0.08604199,  0.14745599,  0.6195435 ,  0.7430892 ,\n",
       "          0.42322803,  0.10315856, -0.00215113,  0.03893864,  0.20623538],\n",
       "        [-0.02588892,  0.20825177,  0.7192654 ,  0.6040319 ,  0.2417978 ,\n",
       "          0.8878544 ,  0.76364976,  1.0446068 ,  1.0235679 ,  0.18556944]],\n",
       "       dtype=float32)>,\n",
       " <tf.Variable 'dense_1/bias:0' shape=(10,) dtype=float32, numpy=array([0.5, 0.5, 0.5, 0.5, 0.5, 0.5, 0.5, 0.5, 0.5, 0.5], dtype=float32)>]"
      ]
     },
     "execution_count": 18,
     "metadata": {},
     "output_type": "execute_result"
    }
   ],
   "source": [
    "model.set_weights(old_weights)\n",
    "\n",
    "model.weights"
   ]
  },
  {
   "cell_type": "code",
   "execution_count": 20,
   "metadata": {},
   "outputs": [
    {
     "data": {
      "text/plain": [
       "[<tf.Tensor: shape=(1, 10), dtype=float32, numpy=array([[0., 0., 0., 0., 0., 0., 0., 0., 0., 0.]], dtype=float32)>,\n",
       " <tf.Tensor: shape=(10,), dtype=float32, numpy=array([0., 0., 0., 0., 0., 0., 0., 0., 0., 0.], dtype=float32)>,\n",
       " <tf.Tensor: shape=(10, 10), dtype=float32, numpy=\n",
       " array([[0., 0., 0., 0., 0., 0., 0., 0., 0., 0.],\n",
       "        [0., 0., 0., 0., 0., 0., 0., 0., 0., 0.],\n",
       "        [0., 0., 0., 0., 0., 0., 0., 0., 0., 0.],\n",
       "        [0., 0., 0., 0., 0., 0., 0., 0., 0., 0.],\n",
       "        [0., 0., 0., 0., 0., 0., 0., 0., 0., 0.],\n",
       "        [0., 0., 0., 0., 0., 0., 0., 0., 0., 0.],\n",
       "        [0., 0., 0., 0., 0., 0., 0., 0., 0., 0.],\n",
       "        [0., 0., 0., 0., 0., 0., 0., 0., 0., 0.],\n",
       "        [0., 0., 0., 0., 0., 0., 0., 0., 0., 0.],\n",
       "        [0., 0., 0., 0., 0., 0., 0., 0., 0., 0.]], dtype=float32)>,\n",
       " <tf.Tensor: shape=(10,), dtype=float32, numpy=array([0., 0., 0., 0., 0., 0., 0., 0., 0., 0.], dtype=float32)>]"
      ]
     },
     "execution_count": 20,
     "metadata": {},
     "output_type": "execute_result"
    }
   ],
   "source": [
    "weight_manager.zeros_like_parameters(model)"
   ]
  },
  {
   "cell_type": "code",
   "execution_count": 21,
   "metadata": {},
   "outputs": [
    {
     "data": {
      "text/plain": [
       "[<tf.Variable 'dense/kernel:0' shape=(1, 10) dtype=float32, numpy=\n",
       " array([[ 1.1143892 ,  0.16952842,  0.25819892,  1.0252829 ,  0.5498514 ,\n",
       "         -0.02466011, -0.20460457,  0.62846226,  0.98184675,  0.7796244 ]],\n",
       "       dtype=float32)>,\n",
       " <tf.Variable 'dense/bias:0' shape=(10,) dtype=float32, numpy=array([0.5, 0.5, 0.5, 0.5, 0.5, 0.5, 0.5, 0.5, 0.5, 0.5], dtype=float32)>,\n",
       " <tf.Variable 'dense_1/kernel:0' shape=(10, 10) dtype=float32, numpy=\n",
       " array([[ 0.47305423,  0.1401056 ,  0.68268394,  0.8832196 ,  0.89344966,\n",
       "          0.1490528 ,  0.5593583 ,  0.42535555,  0.21889609,  0.80090827],\n",
       "        [ 0.14060575,  0.30334947,  0.06021366,  0.6909189 ,  0.26303625,\n",
       "          1.0120109 ,  1.0377995 ,  0.77957994,  0.8432369 ,  0.6257524 ],\n",
       "        [ 0.8113979 ,  0.4903239 ,  0.20437804,  0.81374955,  0.41853982,\n",
       "          0.5715263 ,  0.5260853 ,  0.1803602 ,  0.37907386,  0.66682756],\n",
       "        [ 0.24665761,  0.8397034 ,  0.02658483,  0.94609904,  0.54294217,\n",
       "          0.69805825,  0.43025857,  0.61319315,  0.6327337 ,  0.12887383],\n",
       "        [ 0.8471809 ,  0.08444294,  0.03895378,  0.72237515,  0.84109074,\n",
       "          0.5983378 ,  0.39868233,  0.7327633 ,  0.7780803 ,  0.07641667],\n",
       "        [ 0.50130117,  0.43418023,  0.59514445,  0.9977858 ,  0.8601999 ,\n",
       "          1.0163467 ,  1.0317856 ,  0.94040143,  1.0039405 ,  0.9826845 ],\n",
       "        [ 0.14087087,  0.2053056 ,  0.37834102,  0.7763317 ,  0.04168516,\n",
       "          0.46280873, -0.02231526,  0.38596705,  1.0062348 ,  0.55639017],\n",
       "        [ 1.0172142 ,  0.9025292 ,  0.622933  , -0.04276782,  0.6226435 ,\n",
       "          0.520529  ,  0.6741263 ,  0.69800144,  0.9794419 ,  0.30939278],\n",
       "        [-0.00948322,  0.08604199,  0.14745599,  0.6195435 ,  0.7430892 ,\n",
       "          0.42322803,  0.10315856, -0.00215113,  0.03893864,  0.20623538],\n",
       "        [-0.02588892,  0.20825177,  0.7192654 ,  0.6040319 ,  0.2417978 ,\n",
       "          0.8878544 ,  0.76364976,  1.0446068 ,  1.0235679 ,  0.18556944]],\n",
       "       dtype=float32)>,\n",
       " <tf.Variable 'dense_1/bias:0' shape=(10,) dtype=float32, numpy=array([0.5, 0.5, 0.5, 0.5, 0.5, 0.5, 0.5, 0.5, 0.5, 0.5], dtype=float32)>]"
      ]
     },
     "execution_count": 21,
     "metadata": {},
     "output_type": "execute_result"
    }
   ],
   "source": [
    "model.weights"
   ]
  },
  {
   "attachments": {},
   "cell_type": "markdown",
   "metadata": {},
   "source": [
    "## Conclusion\n",
    "primitives of weight_manager work with List[tf.Variable] objects "
   ]
  }
 ],
 "metadata": {
  "kernelspec": {
   "display_name": "base",
   "language": "python",
   "name": "python3"
  },
  "language_info": {
   "codemirror_mode": {
    "name": "ipython",
    "version": 3
   },
   "file_extension": ".py",
   "mimetype": "text/x-python",
   "name": "python",
   "nbconvert_exporter": "python",
   "pygments_lexer": "ipython3",
   "version": "3.9.16"
  },
  "orig_nbformat": 4
 },
 "nbformat": 4,
 "nbformat_minor": 2
}
