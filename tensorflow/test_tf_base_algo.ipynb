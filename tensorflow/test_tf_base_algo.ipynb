{
 "cells": [
  {
   "cell_type": "code",
   "execution_count": 17,
   "metadata": {},
   "outputs": [],
   "source": [
    "from typing import List\n",
    "import tensorflow as tf\n",
    "import numpy as np\n",
    "from tensorflow.keras import datasets, layers, models\n",
    "\n",
    "import weight_manager\n",
    "# https://www.geeksforgeeks.org/ordereddict-in-python/"
   ]
  },
  {
   "cell_type": "code",
   "execution_count": 23,
   "metadata": {},
   "outputs": [],
   "source": [
    "# simple model creation\n",
    "\n",
    "model = tf.keras.Sequential()\n",
    "model.add(layers.Dense(units=10, input_shape=(1,)))\n",
    "model.add(layers.Dense(units=10))\n",
    "# model.add(layers.Conv2D(32, (3, 3), activation='relu', input_shape=(32,32,3)))\n",
    "# model.add(layers.MaxPooling2D((2, 2)))\n",
    "# model.add(layers.Conv2D(64, (3, 3), activation='relu'))\n",
    "# model.add(layers.MaxPooling2D((2, 2)))\n",
    "# model.add(layers.Conv2D(64, (3, 3), activation='relu'))\n",
    "\n",
    "optimizer = tf.keras.optimizers.Adam(learning_rate=0.001)\n"
   ]
  },
  {
   "cell_type": "code",
   "execution_count": 19,
   "metadata": {},
   "outputs": [
    {
     "data": {
      "text/plain": [
       "('dense_2', 'dense_3')"
      ]
     },
     "execution_count": 19,
     "metadata": {},
     "output_type": "execute_result"
    }
   ],
   "source": [
    "# automatic name creation\n",
    "model.layers[0].name,model.layers[1].name"
   ]
  },
  {
   "cell_type": "code",
   "execution_count": 20,
   "metadata": {},
   "outputs": [
    {
     "data": {
      "text/plain": [
       "[array([[ 0.5156755 , -0.11075705,  0.37524265,  0.20820606,  0.50997335,\n",
       "         -0.45109797, -0.04316729, -0.6919177 , -0.08060271, -0.30794325]],\n",
       "       dtype=float32),\n",
       " array([0., 0., 0., 0., 0., 0., 0., 0., 0., 0.], dtype=float32)]"
      ]
     },
     "execution_count": 20,
     "metadata": {},
     "output_type": "execute_result"
    }
   ],
   "source": [
    "model.layers[0].get_weights() # gives (weights, bias)"
   ]
  },
  {
   "cell_type": "code",
   "execution_count": 21,
   "metadata": {},
   "outputs": [
    {
     "data": {
      "text/plain": [
       "'4'"
      ]
     },
     "execution_count": 21,
     "metadata": {},
     "output_type": "execute_result"
    }
   ],
   "source": [
    "f'{2+2}'"
   ]
  },
  {
   "cell_type": "code",
   "execution_count": 22,
   "metadata": {},
   "outputs": [
    {
     "data": {
      "text/plain": [
       "OrderedDict([('dense_2.weight',\n",
       "              <tf.Variable 'Variable:0' shape=(1, 10) dtype=float64, numpy=\n",
       "              array([[ 0.51567549, -0.11075705,  0.37524265,  0.20820606,  0.50997335,\n",
       "                      -0.45109797, -0.04316729, -0.69191772, -0.08060271, -0.30794325]])>),\n",
       "             ('dense_2.bias',\n",
       "              <tf.Variable 'Variable:0' shape=(10,) dtype=float64, numpy=array([0., 0., 0., 0., 0., 0., 0., 0., 0., 0.])>),\n",
       "             ('dense_3.weight',\n",
       "              <tf.Variable 'Variable:0' shape=(10, 10) dtype=float64, numpy=\n",
       "              array([[-0.1189574 ,  0.11489117, -0.43617234,  0.54548943, -0.49006334,\n",
       "                       0.19727254,  0.52312803, -0.1740284 , -0.12193546, -0.04205656],\n",
       "                     [-0.10620451,  0.52559257, -0.40713769,  0.02552879, -0.54418039,\n",
       "                      -0.0454402 ,  0.38965338,  0.3931843 , -0.00222808,  0.44847679],\n",
       "                     [ 0.18520063, -0.47330979,  0.50398564,  0.36348563, -0.3389042 ,\n",
       "                       0.3359229 ,  0.19635582, -0.27555957, -0.32452196,  0.530864  ],\n",
       "                     [ 0.47470927, -0.22075212,  0.01390219,  0.0298444 ,  0.23205   ,\n",
       "                      -0.42433828, -0.21574539, -0.30593312,  0.1793142 ,  0.33131409],\n",
       "                     [ 0.24319851, -0.23001781, -0.48809528, -0.18247569,  0.03905576,\n",
       "                      -0.39721555,  0.4304567 , -0.01313984,  0.13791567, -0.27109754],\n",
       "                     [-0.13034892, -0.1299915 ,  0.01888943,  0.19790912, -0.00901848,\n",
       "                       0.05034268,  0.36674291,  0.2046746 , -0.35051376,  0.49329817],\n",
       "                     [ 0.25628555, -0.01607764, -0.16234213, -0.32001448, -0.02707595,\n",
       "                      -0.29625857,  0.49490547, -0.47166243, -0.192498  ,  0.17850113],\n",
       "                     [ 0.01947409,  0.28544348, -0.0794259 , -0.06998196, -0.43151391,\n",
       "                       0.30479181,  0.14112395,  0.19595921,  0.47851408, -0.2313289 ],\n",
       "                     [ 0.15794474, -0.18808466,  0.26672065,  0.51895964,  0.49040711,\n",
       "                       0.4746232 , -0.05541208,  0.11155415, -0.20751241,  0.02407038],\n",
       "                     [ 0.45321929, -0.2438091 ,  0.39035463, -0.53784311, -0.44441044,\n",
       "                      -0.45523104, -0.19880876, -0.26869226,  0.42060542,  0.513551  ]])>),\n",
       "             ('dense_3.bias',\n",
       "              <tf.Variable 'Variable:0' shape=(10,) dtype=float64, numpy=array([0., 0., 0., 0., 0., 0., 0., 0., 0., 0.])>)])"
      ]
     },
     "execution_count": 22,
     "metadata": {},
     "output_type": "execute_result"
    }
   ],
   "source": [
    "weight_manager.state_dict(model)"
   ]
  },
  {
   "cell_type": "code",
   "execution_count": 24,
   "metadata": {},
   "outputs": [
    {
     "data": {
      "text/plain": [
       "{'name': 'Adam',\n",
       " 'weight_decay': None,\n",
       " 'clipnorm': None,\n",
       " 'global_clipnorm': None,\n",
       " 'clipvalue': None,\n",
       " 'use_ema': False,\n",
       " 'ema_momentum': 0.99,\n",
       " 'ema_overwrite_frequency': None,\n",
       " 'jit_compile': False,\n",
       " 'is_legacy_optimizer': False,\n",
       " 'learning_rate': 0.001,\n",
       " 'beta_1': 0.9,\n",
       " 'beta_2': 0.999,\n",
       " 'epsilon': 1e-07,\n",
       " 'amsgrad': False}"
      ]
     },
     "execution_count": 24,
     "metadata": {},
     "output_type": "execute_result"
    }
   ],
   "source": [
    "optimizer.get_config() # OK, et 'state ?'"
   ]
  }
 ],
 "metadata": {
  "kernelspec": {
   "display_name": "base",
   "language": "python",
   "name": "python3"
  },
  "language_info": {
   "codemirror_mode": {
    "name": "ipython",
    "version": 3
   },
   "file_extension": ".py",
   "mimetype": "text/x-python",
   "name": "python",
   "nbconvert_exporter": "python",
   "pygments_lexer": "ipython3",
   "version": "3.9.16"
  },
  "orig_nbformat": 4
 },
 "nbformat": 4,
 "nbformat_minor": 2
}
