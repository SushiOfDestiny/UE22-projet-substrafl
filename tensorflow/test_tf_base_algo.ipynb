{
 "cells": [
  {
   "cell_type": "code",
   "execution_count": 2,
   "metadata": {},
   "outputs": [],
   "source": [
    "from typing import List\n",
    "import tensorflow as tf\n",
    "import numpy as np\n",
    "from tensorflow.keras import datasets, layers, models\n",
    "\n",
    "import weight_manager\n",
    "# https://www.geeksforgeeks.org/ordereddict-in-python/"
   ]
  },
  {
   "cell_type": "code",
   "execution_count": 3,
   "metadata": {},
   "outputs": [],
   "source": [
    "# simple model creation\n",
    "\n",
    "model = tf.keras.Sequential()\n",
    "model.add(layers.Dense(units=10, input_shape=(1,)))\n",
    "model.add(layers.Dense(units=10))\n",
    "# model.add(layers.Conv2D(32, (3, 3), activation='relu', input_shape=(32,32,3)))\n",
    "# model.add(layers.MaxPooling2D((2, 2)))\n",
    "# model.add(layers.Conv2D(64, (3, 3), activation='relu'))\n",
    "# model.add(layers.MaxPooling2D((2, 2)))\n",
    "# model.add(layers.Conv2D(64, (3, 3), activation='relu'))\n",
    "\n",
    "optimizer = tf.keras.optimizers.Adam(learning_rate=0.001)\n"
   ]
  },
  {
   "cell_type": "code",
   "execution_count": 4,
   "metadata": {},
   "outputs": [
    {
     "data": {
      "text/plain": [
       "('dense', 'dense_1')"
      ]
     },
     "execution_count": 4,
     "metadata": {},
     "output_type": "execute_result"
    }
   ],
   "source": [
    "# automatic name creation\n",
    "model.layers[0].name,model.layers[1].name"
   ]
  },
  {
   "cell_type": "code",
   "execution_count": 5,
   "metadata": {},
   "outputs": [
    {
     "data": {
      "text/plain": [
       "[array([[ 0.52812535,  0.58084637,  0.4990613 ,  0.22483188,  0.01013732,\n",
       "          0.5102213 ,  0.45367712, -0.41657427,  0.60514325,  0.3534482 ]],\n",
       "       dtype=float32),\n",
       " array([0., 0., 0., 0., 0., 0., 0., 0., 0., 0.], dtype=float32)]"
      ]
     },
     "execution_count": 5,
     "metadata": {},
     "output_type": "execute_result"
    }
   ],
   "source": [
    "model.layers[0].get_weights() # gives (weights, bias)"
   ]
  },
  {
   "cell_type": "code",
   "execution_count": 6,
   "metadata": {},
   "outputs": [
    {
     "data": {
      "text/plain": [
       "'4'"
      ]
     },
     "execution_count": 6,
     "metadata": {},
     "output_type": "execute_result"
    }
   ],
   "source": [
    "f'{2+2}'"
   ]
  },
  {
   "cell_type": "code",
   "execution_count": 8,
   "metadata": {},
   "outputs": [
    {
     "data": {
      "text/plain": [
       "OrderedDict([('dense.weight',\n",
       "              <tf.Variable 'Variable:0' shape=(1, 10) dtype=float64, numpy=\n",
       "              array([[ 0.52812535,  0.58084637,  0.49906129,  0.22483188,  0.01013732,\n",
       "                       0.5102213 ,  0.45367712, -0.41657427,  0.60514325,  0.35344821]])>),\n",
       "             ('dense.bias',\n",
       "              <tf.Variable 'Variable:0' shape=(10,) dtype=float64, numpy=array([0., 0., 0., 0., 0., 0., 0., 0., 0., 0.])>),\n",
       "             ('dense_1.weight',\n",
       "              <tf.Variable 'Variable:0' shape=(10, 10) dtype=float64, numpy=\n",
       "              array([[-0.13399687,  0.22810459, -0.23489746, -0.20570233, -0.13280734,\n",
       "                      -0.24015099, -0.42723614, -0.38021898, -0.48436987,  0.02161139],\n",
       "                     [-0.17027634, -0.49828747,  0.51068199, -0.50270367, -0.33936083,\n",
       "                      -0.34350333,  0.06861341, -0.00315577,  0.18881047, -0.24222353],\n",
       "                     [ 0.3234129 ,  0.29603279, -0.33112967, -0.05933845, -0.49494979,\n",
       "                       0.07043171, -0.16514701,  0.23581094, -0.17671511,  0.05715686],\n",
       "                     [ 0.23700541,  0.01594025, -0.23426735, -0.05245233,  0.32681847,\n",
       "                       0.32907343, -0.36847264,  0.36963165, -0.5154205 ,  0.50770593],\n",
       "                     [-0.06984159, -0.38263458,  0.0040282 , -0.47909832, -0.00114214,\n",
       "                      -0.25650206,  0.38303131, -0.37703043, -0.23080772,  0.14324886],\n",
       "                     [ 0.07780194, -0.05107018, -0.48215944,  0.06608146, -0.3417967 ,\n",
       "                       0.20856088, -0.011917  ,  0.53008163,  0.02831656,  0.02304149],\n",
       "                     [ 0.3939532 , -0.08050233,  0.03156304,  0.49081206, -0.15669149,\n",
       "                       0.41016251, -0.30320698, -0.14918259,  0.35694939, -0.08747372],\n",
       "                     [ 0.3956219 , -0.48159307, -0.10799566,  0.00210845, -0.49191573,\n",
       "                      -0.25909671,  0.43596119,  0.40875685, -0.40817326,  0.42251253],\n",
       "                     [ 0.33578551,  0.4030416 ,  0.35604191, -0.03842175,  0.12991327,\n",
       "                       0.47521818, -0.06910247,  0.33145094, -0.46018252, -0.04481059],\n",
       "                     [ 0.2874946 ,  0.41656923,  0.19240344,  0.1559571 ,  0.01596665,\n",
       "                      -0.54384923,  0.11873645,  0.2127316 , -0.07119578, -0.38961148]])>),\n",
       "             ('dense_1.bias',\n",
       "              <tf.Variable 'Variable:0' shape=(10,) dtype=float64, numpy=array([0., 0., 0., 0., 0., 0., 0., 0., 0., 0.])>)])"
      ]
     },
     "execution_count": 8,
     "metadata": {},
     "output_type": "execute_result"
    }
   ],
   "source": [
    "weight_manager.model_state_dict(model)"
   ]
  },
  {
   "cell_type": "code",
   "execution_count": 9,
   "metadata": {},
   "outputs": [
    {
     "data": {
      "text/plain": [
       "{'name': 'Adam',\n",
       " 'weight_decay': None,\n",
       " 'clipnorm': None,\n",
       " 'global_clipnorm': None,\n",
       " 'clipvalue': None,\n",
       " 'use_ema': False,\n",
       " 'ema_momentum': 0.99,\n",
       " 'ema_overwrite_frequency': None,\n",
       " 'jit_compile': False,\n",
       " 'is_legacy_optimizer': False,\n",
       " 'learning_rate': 0.001,\n",
       " 'beta_1': 0.9,\n",
       " 'beta_2': 0.999,\n",
       " 'epsilon': 1e-07,\n",
       " 'amsgrad': False}"
      ]
     },
     "execution_count": 9,
     "metadata": {},
     "output_type": "execute_result"
    }
   ],
   "source": [
    "optimizer.get_config() # OK, et 'state ?'"
   ]
  },
  {
   "cell_type": "code",
   "execution_count": 14,
   "metadata": {},
   "outputs": [
    {
     "data": {
      "text/plain": [
       "{'name': 'sequential',\n",
       " 'layers': [{'class_name': 'InputLayer',\n",
       "   'config': {'batch_input_shape': (None, 1),\n",
       "    'dtype': 'float32',\n",
       "    'sparse': False,\n",
       "    'ragged': False,\n",
       "    'name': 'dense_input'}},\n",
       "  {'class_name': 'Dense',\n",
       "   'config': {'name': 'dense',\n",
       "    'trainable': True,\n",
       "    'dtype': 'float32',\n",
       "    'batch_input_shape': (None, 1),\n",
       "    'units': 10,\n",
       "    'activation': 'linear',\n",
       "    'use_bias': True,\n",
       "    'kernel_initializer': {'class_name': 'GlorotUniform',\n",
       "     'config': {'seed': None}},\n",
       "    'bias_initializer': {'class_name': 'Zeros', 'config': {}},\n",
       "    'kernel_regularizer': None,\n",
       "    'bias_regularizer': None,\n",
       "    'activity_regularizer': None,\n",
       "    'kernel_constraint': None,\n",
       "    'bias_constraint': None}},\n",
       "  {'class_name': 'Dense',\n",
       "   'config': {'name': 'dense_1',\n",
       "    'trainable': True,\n",
       "    'dtype': 'float32',\n",
       "    'units': 10,\n",
       "    'activation': 'linear',\n",
       "    'use_bias': True,\n",
       "    'kernel_initializer': {'class_name': 'GlorotUniform',\n",
       "     'config': {'seed': None}},\n",
       "    'bias_initializer': {'class_name': 'Zeros', 'config': {}},\n",
       "    'kernel_regularizer': None,\n",
       "    'bias_regularizer': None,\n",
       "    'activity_regularizer': None,\n",
       "    'kernel_constraint': None,\n",
       "    'bias_constraint': None}}]}"
      ]
     },
     "execution_count": 14,
     "metadata": {},
     "output_type": "execute_result"
    }
   ],
   "source": [
    "model.get_config()"
   ]
  },
  {
   "cell_type": "code",
   "execution_count": 16,
   "metadata": {},
   "outputs": [
    {
     "data": {
      "text/plain": [
       "[array([[ 0.52812535,  0.58084637,  0.4990613 ,  0.22483188,  0.01013732,\n",
       "          0.5102213 ,  0.45367712, -0.41657427,  0.60514325,  0.3534482 ]],\n",
       "       dtype=float32),\n",
       " array([0., 0., 0., 0., 0., 0., 0., 0., 0., 0.], dtype=float32),\n",
       " array([[-0.13399687,  0.22810459, -0.23489746, -0.20570233, -0.13280734,\n",
       "         -0.24015099, -0.42723614, -0.38021898, -0.48436987,  0.02161139],\n",
       "        [-0.17027634, -0.49828747,  0.510682  , -0.50270367, -0.33936083,\n",
       "         -0.34350333,  0.06861341, -0.00315577,  0.18881047, -0.24222353],\n",
       "        [ 0.3234129 ,  0.2960328 , -0.33112967, -0.05933845, -0.4949498 ,\n",
       "          0.07043171, -0.165147  ,  0.23581094, -0.1767151 ,  0.05715686],\n",
       "        [ 0.23700541,  0.01594025, -0.23426735, -0.05245233,  0.32681847,\n",
       "          0.32907343, -0.36847264,  0.36963165, -0.5154205 ,  0.5077059 ],\n",
       "        [-0.06984159, -0.38263458,  0.0040282 , -0.47909832, -0.00114214,\n",
       "         -0.25650206,  0.3830313 , -0.37703043, -0.23080772,  0.14324886],\n",
       "        [ 0.07780194, -0.05107018, -0.48215944,  0.06608146, -0.3417967 ,\n",
       "          0.20856088, -0.011917  ,  0.5300816 ,  0.02831656,  0.02304149],\n",
       "        [ 0.3939532 , -0.08050233,  0.03156304,  0.49081206, -0.15669149,\n",
       "          0.4101625 , -0.30320698, -0.14918259,  0.3569494 , -0.08747372],\n",
       "        [ 0.3956219 , -0.48159307, -0.10799566,  0.00210845, -0.49191573,\n",
       "         -0.2590967 ,  0.4359612 ,  0.40875685, -0.40817326,  0.42251253],\n",
       "        [ 0.3357855 ,  0.4030416 ,  0.3560419 , -0.03842175,  0.12991327,\n",
       "          0.47521818, -0.06910247,  0.33145094, -0.46018252, -0.04481059],\n",
       "        [ 0.2874946 ,  0.41656923,  0.19240344,  0.1559571 ,  0.01596665,\n",
       "         -0.54384923,  0.11873645,  0.2127316 , -0.07119578, -0.38961148]],\n",
       "       dtype=float32),\n",
       " array([0., 0., 0., 0., 0., 0., 0., 0., 0., 0.], dtype=float32)]"
      ]
     },
     "execution_count": 16,
     "metadata": {},
     "output_type": "execute_result"
    }
   ],
   "source": [
    "model.get_weights() #list"
   ]
  }
 ],
 "metadata": {
  "kernelspec": {
   "display_name": "base",
   "language": "python",
   "name": "python3"
  },
  "language_info": {
   "codemirror_mode": {
    "name": "ipython",
    "version": 3
   },
   "file_extension": ".py",
   "mimetype": "text/x-python",
   "name": "python",
   "nbconvert_exporter": "python",
   "pygments_lexer": "ipython3",
   "version": "3.9.16"
  },
  "orig_nbformat": 4
 },
 "nbformat": 4,
 "nbformat_minor": 2
}
